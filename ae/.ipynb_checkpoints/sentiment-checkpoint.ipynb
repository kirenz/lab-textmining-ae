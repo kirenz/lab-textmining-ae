{
 "cells": [
  {
   "cell_type": "markdown",
   "metadata": {
    "slideshow": {
     "slide_type": "slide"
    }
   },
   "source": [
    "# Sentiment Analysis with NLTK"
   ]
  },
  {
   "cell_type": "markdown",
   "metadata": {
    "slideshow": {
     "slide_type": "slide"
    }
   },
   "source": [
    "## Python setup\n",
    "\n",
    "\n",
    "We need the following modules:\n",
    "\n",
    "- NLTK\n",
    "- Pandas\n",
    "- Altair"
   ]
  },
  {
   "cell_type": "code",
   "execution_count": 1,
   "metadata": {},
   "outputs": [],
   "source": [
    "import nltk\n",
    "\n",
    "# we suppress some unimportant warnings\n",
    "import warnings\n",
    "\n",
    "warnings.simplefilter(action='ignore', category=FutureWarning)"
   ]
  },
  {
   "cell_type": "markdown",
   "metadata": {
    "slideshow": {
     "slide_type": "slide"
    },
    "tags": []
   },
   "source": [
    "## Data"
   ]
  },
  {
   "cell_type": "markdown",
   "metadata": {
    "slideshow": {
     "slide_type": "slide"
    }
   },
   "source": [
    "### Data import"
   ]
  },
  {
   "cell_type": "code",
   "execution_count": 27,
   "metadata": {
    "slideshow": {
     "slide_type": "fragment"
    }
   },
   "outputs": [
    {
     "data": {
      "text/html": [
       "<div>\n",
       "<style scoped>\n",
       "    .dataframe tbody tr th:only-of-type {\n",
       "        vertical-align: middle;\n",
       "    }\n",
       "\n",
       "    .dataframe tbody tr th {\n",
       "        vertical-align: top;\n",
       "    }\n",
       "\n",
       "    .dataframe thead th {\n",
       "        text-align: right;\n",
       "    }\n",
       "</style>\n",
       "<table border=\"1\" class=\"dataframe\">\n",
       "  <thead>\n",
       "    <tr style=\"text-align: right;\">\n",
       "      <th></th>\n",
       "      <th>text</th>\n",
       "      <th>created_at</th>\n",
       "      <th>text_token</th>\n",
       "      <th>text_token_s</th>\n",
       "      <th>text_si</th>\n",
       "      <th>text_sil</th>\n",
       "    </tr>\n",
       "  </thead>\n",
       "  <tbody>\n",
       "    <tr>\n",
       "      <th>0</th>\n",
       "      <td>the body of missing princeton university stude...</td>\n",
       "      <td>2022-10-20 19:58:17+00:00</td>\n",
       "      <td>['the', 'body', 'of', 'missing', 'princeton', ...</td>\n",
       "      <td>['body', 'missing', 'princeton', 'university',...</td>\n",
       "      <td>body missing princeton university student misr...</td>\n",
       "      <td>body missing princeton university student misr...</td>\n",
       "    </tr>\n",
       "    <tr>\n",
       "      <th>1</th>\n",
       "      <td>uk prime minister liz truss quits after a disa...</td>\n",
       "      <td>2022-10-20 12:37:10+00:00</td>\n",
       "      <td>['uk', 'prime', 'minister', 'liz', 'truss', 'q...</td>\n",
       "      <td>['uk', 'prime', 'minister', 'liz', 'truss', 'q...</td>\n",
       "      <td>prime minister liz truss quits disastrous six ...</td>\n",
       "      <td>prime minister liz truss quits disastrous six ...</td>\n",
       "    </tr>\n",
       "    <tr>\n",
       "      <th>2</th>\n",
       "      <td>trump weighs letting federal agents return to ...</td>\n",
       "      <td>2022-10-19 23:03:37+00:00</td>\n",
       "      <td>['trump', 'weighs', 'letting', 'federal', 'age...</td>\n",
       "      <td>['trump', 'weighs', 'letting', 'federal', 'age...</td>\n",
       "      <td>trump weighs letting federal agents return mar...</td>\n",
       "      <td>trump weighs letting federal agents return mar...</td>\n",
       "    </tr>\n",
       "  </tbody>\n",
       "</table>\n",
       "</div>"
      ],
      "text/plain": [
       "                                                text  \\\n",
       "0  the body of missing princeton university stude...   \n",
       "1  uk prime minister liz truss quits after a disa...   \n",
       "2  trump weighs letting federal agents return to ...   \n",
       "\n",
       "                  created_at  \\\n",
       "0  2022-10-20 19:58:17+00:00   \n",
       "1  2022-10-20 12:37:10+00:00   \n",
       "2  2022-10-19 23:03:37+00:00   \n",
       "\n",
       "                                          text_token  \\\n",
       "0  ['the', 'body', 'of', 'missing', 'princeton', ...   \n",
       "1  ['uk', 'prime', 'minister', 'liz', 'truss', 'q...   \n",
       "2  ['trump', 'weighs', 'letting', 'federal', 'age...   \n",
       "\n",
       "                                        text_token_s  \\\n",
       "0  ['body', 'missing', 'princeton', 'university',...   \n",
       "1  ['uk', 'prime', 'minister', 'liz', 'truss', 'q...   \n",
       "2  ['trump', 'weighs', 'letting', 'federal', 'age...   \n",
       "\n",
       "                                             text_si  \\\n",
       "0  body missing princeton university student misr...   \n",
       "1  prime minister liz truss quits disastrous six ...   \n",
       "2  trump weighs letting federal agents return mar...   \n",
       "\n",
       "                                            text_sil  \n",
       "0  body missing princeton university student misr...  \n",
       "1  prime minister liz truss quits disastrous six ...  \n",
       "2  trump weighs letting federal agents return mar...  "
      ]
     },
     "execution_count": 27,
     "metadata": {},
     "output_type": "execute_result"
    }
   ],
   "source": [
    "import pandas as pd\n",
    "\n",
    "# Import some prepared twitter data from cnn breaking news\n",
    "df = pd.read_csv(\"https://raw.githubusercontent.com/kirenz/datasets/master/sentiment-cnn.csv\")\n",
    "\n",
    "df.head(3)"
   ]
  },
  {
   "cell_type": "markdown",
   "metadata": {
    "slideshow": {
     "slide_type": "slide"
    }
   },
   "source": [
    "### Data corrections"
   ]
  },
  {
   "cell_type": "code",
   "execution_count": 28,
   "metadata": {},
   "outputs": [
    {
     "name": "stdout",
     "output_type": "stream",
     "text": [
      "<class 'pandas.core.frame.DataFrame'>\n",
      "RangeIndex: 22 entries, 0 to 21\n",
      "Data columns (total 6 columns):\n",
      " #   Column        Non-Null Count  Dtype              \n",
      "---  ------        --------------  -----              \n",
      " 0   text          22 non-null     object             \n",
      " 1   created_at    22 non-null     datetime64[ns, UTC]\n",
      " 2   text_token    22 non-null     object             \n",
      " 3   text_token_s  22 non-null     object             \n",
      " 4   text_si       22 non-null     object             \n",
      " 5   text_sil      22 non-null     object             \n",
      "dtypes: datetime64[ns, UTC](1), object(5)\n",
      "memory usage: 1.2+ KB\n"
     ]
    }
   ],
   "source": [
    "df['created_at'] = pd.to_datetime(df['created_at'])\n",
    "\n",
    "df.info()"
   ]
  },
  {
   "cell_type": "markdown",
   "metadata": {
    "slideshow": {
     "slide_type": "slide"
    }
   },
   "source": [
    "## Analysis"
   ]
  },
  {
   "cell_type": "markdown",
   "metadata": {},
   "source": [
    "### VADER lexicon"
   ]
  },
  {
   "cell_type": "markdown",
   "metadata": {
    "slideshow": {
     "slide_type": "fragment"
    }
   },
   "source": [
    "- NLTK provides a simple rule-based model for general sentiment analysis called VADER, which stands for \"Valence Aware Dictionary and Sentiment Reasoner\" (Hutto & Gilbert, 2014)."
   ]
  },
  {
   "cell_type": "code",
   "execution_count": 29,
   "metadata": {
    "slideshow": {
     "slide_type": "fragment"
    }
   },
   "outputs": [
    {
     "name": "stderr",
     "output_type": "stream",
     "text": [
      "[nltk_data] Downloading package vader_lexicon to\n",
      "[nltk_data]     /Users/jankirenz/nltk_data...\n",
      "[nltk_data]   Package vader_lexicon is already up-to-date!\n"
     ]
    },
    {
     "data": {
      "text/plain": [
       "True"
      ]
     },
     "execution_count": 29,
     "metadata": {},
     "output_type": "execute_result"
    }
   ],
   "source": [
    "nltk.download('vader_lexicon')"
   ]
  },
  {
   "cell_type": "markdown",
   "metadata": {
    "slideshow": {
     "slide_type": "slide"
    }
   },
   "source": [
    "### Sentiment Intensity Analyzer"
   ]
  },
  {
   "cell_type": "markdown",
   "metadata": {
    "slideshow": {
     "slide_type": "fragment"
    }
   },
   "source": [
    "- Initialize an object of `SentimentIntensityAnalyzer` with name \"analyzer\":"
   ]
  },
  {
   "cell_type": "code",
   "execution_count": 30,
   "metadata": {
    "slideshow": {
     "slide_type": "fragment"
    }
   },
   "outputs": [],
   "source": [
    "from nltk.sentiment import SentimentIntensityAnalyzer\n",
    "\n",
    "analyzer = SentimentIntensityAnalyzer()"
   ]
  },
  {
   "cell_type": "markdown",
   "metadata": {
    "slideshow": {
     "slide_type": "slide"
    }
   },
   "source": [
    "### Polarity scores\n",
    "\n",
    "- Use the `polarity_scores` method:"
   ]
  },
  {
   "cell_type": "code",
   "execution_count": 31,
   "metadata": {
    "slideshow": {
     "slide_type": "fragment"
    }
   },
   "outputs": [],
   "source": [
    "df['polarity'] = df['text_token'].apply(lambda x: analyzer.polarity_scores(x))"
   ]
  },
  {
   "cell_type": "code",
   "execution_count": 32,
   "metadata": {
    "slideshow": {
     "slide_type": "subslide"
    }
   },
   "outputs": [
    {
     "data": {
      "text/html": [
       "<div>\n",
       "<style scoped>\n",
       "    .dataframe tbody tr th:only-of-type {\n",
       "        vertical-align: middle;\n",
       "    }\n",
       "\n",
       "    .dataframe tbody tr th {\n",
       "        vertical-align: top;\n",
       "    }\n",
       "\n",
       "    .dataframe thead th {\n",
       "        text-align: right;\n",
       "    }\n",
       "</style>\n",
       "<table border=\"1\" class=\"dataframe\">\n",
       "  <thead>\n",
       "    <tr style=\"text-align: right;\">\n",
       "      <th></th>\n",
       "      <th>text</th>\n",
       "      <th>created_at</th>\n",
       "      <th>text_token</th>\n",
       "      <th>text_token_s</th>\n",
       "      <th>text_si</th>\n",
       "      <th>text_sil</th>\n",
       "      <th>polarity</th>\n",
       "    </tr>\n",
       "  </thead>\n",
       "  <tbody>\n",
       "    <tr>\n",
       "      <th>0</th>\n",
       "      <td>the body of missing princeton university stude...</td>\n",
       "      <td>2022-10-20 19:58:17+00:00</td>\n",
       "      <td>['the', 'body', 'of', 'missing', 'princeton', ...</td>\n",
       "      <td>['body', 'missing', 'princeton', 'university',...</td>\n",
       "      <td>body missing princeton university student misr...</td>\n",
       "      <td>body missing princeton university student misr...</td>\n",
       "      <td>{'neg': 0.0, 'neu': 1.0, 'pos': 0.0, 'compound...</td>\n",
       "    </tr>\n",
       "    <tr>\n",
       "      <th>1</th>\n",
       "      <td>uk prime minister liz truss quits after a disa...</td>\n",
       "      <td>2022-10-20 12:37:10+00:00</td>\n",
       "      <td>['uk', 'prime', 'minister', 'liz', 'truss', 'q...</td>\n",
       "      <td>['uk', 'prime', 'minister', 'liz', 'truss', 'q...</td>\n",
       "      <td>prime minister liz truss quits disastrous six ...</td>\n",
       "      <td>prime minister liz truss quits disastrous six ...</td>\n",
       "      <td>{'neg': 0.0, 'neu': 1.0, 'pos': 0.0, 'compound...</td>\n",
       "    </tr>\n",
       "    <tr>\n",
       "      <th>2</th>\n",
       "      <td>trump weighs letting federal agents return to ...</td>\n",
       "      <td>2022-10-19 23:03:37+00:00</td>\n",
       "      <td>['trump', 'weighs', 'letting', 'federal', 'age...</td>\n",
       "      <td>['trump', 'weighs', 'letting', 'federal', 'age...</td>\n",
       "      <td>trump weighs letting federal agents return mar...</td>\n",
       "      <td>trump weighs letting federal agents return mar...</td>\n",
       "      <td>{'neg': 0.0, 'neu': 1.0, 'pos': 0.0, 'compound...</td>\n",
       "    </tr>\n",
       "  </tbody>\n",
       "</table>\n",
       "</div>"
      ],
      "text/plain": [
       "                                                text  \\\n",
       "0  the body of missing princeton university stude...   \n",
       "1  uk prime minister liz truss quits after a disa...   \n",
       "2  trump weighs letting federal agents return to ...   \n",
       "\n",
       "                 created_at  \\\n",
       "0 2022-10-20 19:58:17+00:00   \n",
       "1 2022-10-20 12:37:10+00:00   \n",
       "2 2022-10-19 23:03:37+00:00   \n",
       "\n",
       "                                          text_token  \\\n",
       "0  ['the', 'body', 'of', 'missing', 'princeton', ...   \n",
       "1  ['uk', 'prime', 'minister', 'liz', 'truss', 'q...   \n",
       "2  ['trump', 'weighs', 'letting', 'federal', 'age...   \n",
       "\n",
       "                                        text_token_s  \\\n",
       "0  ['body', 'missing', 'princeton', 'university',...   \n",
       "1  ['uk', 'prime', 'minister', 'liz', 'truss', 'q...   \n",
       "2  ['trump', 'weighs', 'letting', 'federal', 'age...   \n",
       "\n",
       "                                             text_si  \\\n",
       "0  body missing princeton university student misr...   \n",
       "1  prime minister liz truss quits disastrous six ...   \n",
       "2  trump weighs letting federal agents return mar...   \n",
       "\n",
       "                                            text_sil  \\\n",
       "0  body missing princeton university student misr...   \n",
       "1  prime minister liz truss quits disastrous six ...   \n",
       "2  trump weighs letting federal agents return mar...   \n",
       "\n",
       "                                            polarity  \n",
       "0  {'neg': 0.0, 'neu': 1.0, 'pos': 0.0, 'compound...  \n",
       "1  {'neg': 0.0, 'neu': 1.0, 'pos': 0.0, 'compound...  \n",
       "2  {'neg': 0.0, 'neu': 1.0, 'pos': 0.0, 'compound...  "
      ]
     },
     "execution_count": 32,
     "metadata": {},
     "output_type": "execute_result"
    }
   ],
   "source": [
    "df.head(3)"
   ]
  },
  {
   "cell_type": "markdown",
   "metadata": {
    "slideshow": {
     "slide_type": "slide"
    }
   },
   "source": [
    "### Transform data"
   ]
  },
  {
   "cell_type": "code",
   "execution_count": 33,
   "metadata": {
    "slideshow": {
     "slide_type": "fragment"
    }
   },
   "outputs": [],
   "source": [
    "# Change data structure (we unnest the column polarity and add new columns)\n",
    "\n",
    "df = pd.concat([df.drop(['polarity'], axis=1), df['polarity'].apply(pd.Series)], axis=1)"
   ]
  },
  {
   "cell_type": "code",
   "execution_count": 34,
   "metadata": {
    "slideshow": {
     "slide_type": "subslide"
    }
   },
   "outputs": [
    {
     "data": {
      "text/html": [
       "<div>\n",
       "<style scoped>\n",
       "    .dataframe tbody tr th:only-of-type {\n",
       "        vertical-align: middle;\n",
       "    }\n",
       "\n",
       "    .dataframe tbody tr th {\n",
       "        vertical-align: top;\n",
       "    }\n",
       "\n",
       "    .dataframe thead th {\n",
       "        text-align: right;\n",
       "    }\n",
       "</style>\n",
       "<table border=\"1\" class=\"dataframe\">\n",
       "  <thead>\n",
       "    <tr style=\"text-align: right;\">\n",
       "      <th></th>\n",
       "      <th>text</th>\n",
       "      <th>created_at</th>\n",
       "      <th>text_token</th>\n",
       "      <th>text_token_s</th>\n",
       "      <th>text_si</th>\n",
       "      <th>text_sil</th>\n",
       "      <th>neg</th>\n",
       "      <th>neu</th>\n",
       "      <th>pos</th>\n",
       "      <th>compound</th>\n",
       "    </tr>\n",
       "  </thead>\n",
       "  <tbody>\n",
       "    <tr>\n",
       "      <th>0</th>\n",
       "      <td>the body of missing princeton university stude...</td>\n",
       "      <td>2022-10-20 19:58:17+00:00</td>\n",
       "      <td>['the', 'body', 'of', 'missing', 'princeton', ...</td>\n",
       "      <td>['body', 'missing', 'princeton', 'university',...</td>\n",
       "      <td>body missing princeton university student misr...</td>\n",
       "      <td>body missing princeton university student misr...</td>\n",
       "      <td>0.0</td>\n",
       "      <td>1.0</td>\n",
       "      <td>0.0</td>\n",
       "      <td>0.0</td>\n",
       "    </tr>\n",
       "    <tr>\n",
       "      <th>1</th>\n",
       "      <td>uk prime minister liz truss quits after a disa...</td>\n",
       "      <td>2022-10-20 12:37:10+00:00</td>\n",
       "      <td>['uk', 'prime', 'minister', 'liz', 'truss', 'q...</td>\n",
       "      <td>['uk', 'prime', 'minister', 'liz', 'truss', 'q...</td>\n",
       "      <td>prime minister liz truss quits disastrous six ...</td>\n",
       "      <td>prime minister liz truss quits disastrous six ...</td>\n",
       "      <td>0.0</td>\n",
       "      <td>1.0</td>\n",
       "      <td>0.0</td>\n",
       "      <td>0.0</td>\n",
       "    </tr>\n",
       "    <tr>\n",
       "      <th>2</th>\n",
       "      <td>trump weighs letting federal agents return to ...</td>\n",
       "      <td>2022-10-19 23:03:37+00:00</td>\n",
       "      <td>['trump', 'weighs', 'letting', 'federal', 'age...</td>\n",
       "      <td>['trump', 'weighs', 'letting', 'federal', 'age...</td>\n",
       "      <td>trump weighs letting federal agents return mar...</td>\n",
       "      <td>trump weighs letting federal agents return mar...</td>\n",
       "      <td>0.0</td>\n",
       "      <td>1.0</td>\n",
       "      <td>0.0</td>\n",
       "      <td>0.0</td>\n",
       "    </tr>\n",
       "    <tr>\n",
       "      <th>3</th>\n",
       "      <td>britain's home secretary suella braverman quit...</td>\n",
       "      <td>2022-10-19 16:17:29+00:00</td>\n",
       "      <td>['britain', 's', 'home', 'secretary', 'suella'...</td>\n",
       "      <td>['britain', 'home', 'secretary', 'suella', 'br...</td>\n",
       "      <td>britain home secretary suella braverman quits ...</td>\n",
       "      <td>britain home secretary suella braverman quits ...</td>\n",
       "      <td>0.0</td>\n",
       "      <td>1.0</td>\n",
       "      <td>0.0</td>\n",
       "      <td>0.0</td>\n",
       "    </tr>\n",
       "    <tr>\n",
       "      <th>4</th>\n",
       "      <td>russian president vladimir putin signs a decre...</td>\n",
       "      <td>2022-10-19 12:02:15+00:00</td>\n",
       "      <td>['russian', 'president', 'vladimir', 'putin', ...</td>\n",
       "      <td>['russian', 'president', 'vladimir', 'putin', ...</td>\n",
       "      <td>russian president vladimir putin signs decree ...</td>\n",
       "      <td>russian president vladimir putin signs decree ...</td>\n",
       "      <td>0.0</td>\n",
       "      <td>1.0</td>\n",
       "      <td>0.0</td>\n",
       "      <td>0.0</td>\n",
       "    </tr>\n",
       "  </tbody>\n",
       "</table>\n",
       "</div>"
      ],
      "text/plain": [
       "                                                text  \\\n",
       "0  the body of missing princeton university stude...   \n",
       "1  uk prime minister liz truss quits after a disa...   \n",
       "2  trump weighs letting federal agents return to ...   \n",
       "3  britain's home secretary suella braverman quit...   \n",
       "4  russian president vladimir putin signs a decre...   \n",
       "\n",
       "                 created_at  \\\n",
       "0 2022-10-20 19:58:17+00:00   \n",
       "1 2022-10-20 12:37:10+00:00   \n",
       "2 2022-10-19 23:03:37+00:00   \n",
       "3 2022-10-19 16:17:29+00:00   \n",
       "4 2022-10-19 12:02:15+00:00   \n",
       "\n",
       "                                          text_token  \\\n",
       "0  ['the', 'body', 'of', 'missing', 'princeton', ...   \n",
       "1  ['uk', 'prime', 'minister', 'liz', 'truss', 'q...   \n",
       "2  ['trump', 'weighs', 'letting', 'federal', 'age...   \n",
       "3  ['britain', 's', 'home', 'secretary', 'suella'...   \n",
       "4  ['russian', 'president', 'vladimir', 'putin', ...   \n",
       "\n",
       "                                        text_token_s  \\\n",
       "0  ['body', 'missing', 'princeton', 'university',...   \n",
       "1  ['uk', 'prime', 'minister', 'liz', 'truss', 'q...   \n",
       "2  ['trump', 'weighs', 'letting', 'federal', 'age...   \n",
       "3  ['britain', 'home', 'secretary', 'suella', 'br...   \n",
       "4  ['russian', 'president', 'vladimir', 'putin', ...   \n",
       "\n",
       "                                             text_si  \\\n",
       "0  body missing princeton university student misr...   \n",
       "1  prime minister liz truss quits disastrous six ...   \n",
       "2  trump weighs letting federal agents return mar...   \n",
       "3  britain home secretary suella braverman quits ...   \n",
       "4  russian president vladimir putin signs decree ...   \n",
       "\n",
       "                                            text_sil  neg  neu  pos  compound  \n",
       "0  body missing princeton university student misr...  0.0  1.0  0.0       0.0  \n",
       "1  prime minister liz truss quits disastrous six ...  0.0  1.0  0.0       0.0  \n",
       "2  trump weighs letting federal agents return mar...  0.0  1.0  0.0       0.0  \n",
       "3  britain home secretary suella braverman quits ...  0.0  1.0  0.0       0.0  \n",
       "4  russian president vladimir putin signs decree ...  0.0  1.0  0.0       0.0  "
      ]
     },
     "execution_count": 34,
     "metadata": {},
     "output_type": "execute_result"
    }
   ],
   "source": [
    "df.head()"
   ]
  },
  {
   "cell_type": "markdown",
   "metadata": {
    "slideshow": {
     "slide_type": "slide"
    }
   },
   "source": [
    "Create new variable called sentiment which contains the entries \"neutral,\" \"positive\" or \"negative\" (depending on the compound score).\n",
    "\n",
    "\n",
    "Hint:\n",
    "\n",
    "\n",
    "---\n",
    "\n",
    "```python\n",
    "df['___'] = df['___'].___(___ x: '___' if ___ >___ else '___' if ___ else '___')\n",
    "```\n",
    "\n",
    "---\n",
    "\n",
    "- Name the new variable `sentiment`\n",
    "- Use variable `compound` as basis\n",
    "- apply a lambda function to each row.\n",
    "- The lambda function should write a name in a cell:\n",
    "  - 'positive' `if x>0`\n",
    "  - 'neutral' `if x==0`\n",
    "  - 'negative' for all other cases (`else`)\n"
   ]
  },
  {
   "cell_type": "code",
   "execution_count": 35,
   "metadata": {
    "nbgrader": {
     "grade": false,
     "grade_id": "sentiment",
     "locked": false,
     "schema_version": 3,
     "solution": true,
     "task": false
    }
   },
   "outputs": [],
   "source": [
    "### BEGIN SOLUTION\n",
    "df['sentiment'] = df['compound'].apply(lambda x: 'positive' if x >0 else 'neutral' if x==0 else 'negative')\n",
    "### END SOLUTION"
   ]
  },
  {
   "cell_type": "code",
   "execution_count": 39,
   "metadata": {
    "nbgrader": {
     "grade": true,
     "grade_id": "c-sentiment",
     "locked": true,
     "points": 4,
     "schema_version": 3,
     "solution": false,
     "task": false
    }
   },
   "outputs": [],
   "source": [
    "# check your code\n",
    "assert df.iloc[0, 10] == 'neutral'"
   ]
  },
  {
   "cell_type": "code",
   "execution_count": 38,
   "metadata": {
    "slideshow": {
     "slide_type": "subslide"
    }
   },
   "outputs": [
    {
     "data": {
      "text/html": [
       "<div>\n",
       "<style scoped>\n",
       "    .dataframe tbody tr th:only-of-type {\n",
       "        vertical-align: middle;\n",
       "    }\n",
       "\n",
       "    .dataframe tbody tr th {\n",
       "        vertical-align: top;\n",
       "    }\n",
       "\n",
       "    .dataframe thead th {\n",
       "        text-align: right;\n",
       "    }\n",
       "</style>\n",
       "<table border=\"1\" class=\"dataframe\">\n",
       "  <thead>\n",
       "    <tr style=\"text-align: right;\">\n",
       "      <th></th>\n",
       "      <th>text</th>\n",
       "      <th>created_at</th>\n",
       "      <th>text_token</th>\n",
       "      <th>text_token_s</th>\n",
       "      <th>text_si</th>\n",
       "      <th>text_sil</th>\n",
       "      <th>neg</th>\n",
       "      <th>neu</th>\n",
       "      <th>pos</th>\n",
       "      <th>compound</th>\n",
       "      <th>sentiment</th>\n",
       "    </tr>\n",
       "  </thead>\n",
       "  <tbody>\n",
       "    <tr>\n",
       "      <th>0</th>\n",
       "      <td>the body of missing princeton university stude...</td>\n",
       "      <td>2022-10-20 19:58:17+00:00</td>\n",
       "      <td>['the', 'body', 'of', 'missing', 'princeton', ...</td>\n",
       "      <td>['body', 'missing', 'princeton', 'university',...</td>\n",
       "      <td>body missing princeton university student misr...</td>\n",
       "      <td>body missing princeton university student misr...</td>\n",
       "      <td>0.0</td>\n",
       "      <td>1.0</td>\n",
       "      <td>0.0</td>\n",
       "      <td>0.0</td>\n",
       "      <td>neutral</td>\n",
       "    </tr>\n",
       "    <tr>\n",
       "      <th>1</th>\n",
       "      <td>uk prime minister liz truss quits after a disa...</td>\n",
       "      <td>2022-10-20 12:37:10+00:00</td>\n",
       "      <td>['uk', 'prime', 'minister', 'liz', 'truss', 'q...</td>\n",
       "      <td>['uk', 'prime', 'minister', 'liz', 'truss', 'q...</td>\n",
       "      <td>prime minister liz truss quits disastrous six ...</td>\n",
       "      <td>prime minister liz truss quits disastrous six ...</td>\n",
       "      <td>0.0</td>\n",
       "      <td>1.0</td>\n",
       "      <td>0.0</td>\n",
       "      <td>0.0</td>\n",
       "      <td>neutral</td>\n",
       "    </tr>\n",
       "    <tr>\n",
       "      <th>2</th>\n",
       "      <td>trump weighs letting federal agents return to ...</td>\n",
       "      <td>2022-10-19 23:03:37+00:00</td>\n",
       "      <td>['trump', 'weighs', 'letting', 'federal', 'age...</td>\n",
       "      <td>['trump', 'weighs', 'letting', 'federal', 'age...</td>\n",
       "      <td>trump weighs letting federal agents return mar...</td>\n",
       "      <td>trump weighs letting federal agents return mar...</td>\n",
       "      <td>0.0</td>\n",
       "      <td>1.0</td>\n",
       "      <td>0.0</td>\n",
       "      <td>0.0</td>\n",
       "      <td>neutral</td>\n",
       "    </tr>\n",
       "    <tr>\n",
       "      <th>3</th>\n",
       "      <td>britain's home secretary suella braverman quit...</td>\n",
       "      <td>2022-10-19 16:17:29+00:00</td>\n",
       "      <td>['britain', 's', 'home', 'secretary', 'suella'...</td>\n",
       "      <td>['britain', 'home', 'secretary', 'suella', 'br...</td>\n",
       "      <td>britain home secretary suella braverman quits ...</td>\n",
       "      <td>britain home secretary suella braverman quits ...</td>\n",
       "      <td>0.0</td>\n",
       "      <td>1.0</td>\n",
       "      <td>0.0</td>\n",
       "      <td>0.0</td>\n",
       "      <td>neutral</td>\n",
       "    </tr>\n",
       "    <tr>\n",
       "      <th>4</th>\n",
       "      <td>russian president vladimir putin signs a decre...</td>\n",
       "      <td>2022-10-19 12:02:15+00:00</td>\n",
       "      <td>['russian', 'president', 'vladimir', 'putin', ...</td>\n",
       "      <td>['russian', 'president', 'vladimir', 'putin', ...</td>\n",
       "      <td>russian president vladimir putin signs decree ...</td>\n",
       "      <td>russian president vladimir putin signs decree ...</td>\n",
       "      <td>0.0</td>\n",
       "      <td>1.0</td>\n",
       "      <td>0.0</td>\n",
       "      <td>0.0</td>\n",
       "      <td>neutral</td>\n",
       "    </tr>\n",
       "  </tbody>\n",
       "</table>\n",
       "</div>"
      ],
      "text/plain": [
       "                                                text  \\\n",
       "0  the body of missing princeton university stude...   \n",
       "1  uk prime minister liz truss quits after a disa...   \n",
       "2  trump weighs letting federal agents return to ...   \n",
       "3  britain's home secretary suella braverman quit...   \n",
       "4  russian president vladimir putin signs a decre...   \n",
       "\n",
       "                 created_at  \\\n",
       "0 2022-10-20 19:58:17+00:00   \n",
       "1 2022-10-20 12:37:10+00:00   \n",
       "2 2022-10-19 23:03:37+00:00   \n",
       "3 2022-10-19 16:17:29+00:00   \n",
       "4 2022-10-19 12:02:15+00:00   \n",
       "\n",
       "                                          text_token  \\\n",
       "0  ['the', 'body', 'of', 'missing', 'princeton', ...   \n",
       "1  ['uk', 'prime', 'minister', 'liz', 'truss', 'q...   \n",
       "2  ['trump', 'weighs', 'letting', 'federal', 'age...   \n",
       "3  ['britain', 's', 'home', 'secretary', 'suella'...   \n",
       "4  ['russian', 'president', 'vladimir', 'putin', ...   \n",
       "\n",
       "                                        text_token_s  \\\n",
       "0  ['body', 'missing', 'princeton', 'university',...   \n",
       "1  ['uk', 'prime', 'minister', 'liz', 'truss', 'q...   \n",
       "2  ['trump', 'weighs', 'letting', 'federal', 'age...   \n",
       "3  ['britain', 'home', 'secretary', 'suella', 'br...   \n",
       "4  ['russian', 'president', 'vladimir', 'putin', ...   \n",
       "\n",
       "                                             text_si  \\\n",
       "0  body missing princeton university student misr...   \n",
       "1  prime minister liz truss quits disastrous six ...   \n",
       "2  trump weighs letting federal agents return mar...   \n",
       "3  britain home secretary suella braverman quits ...   \n",
       "4  russian president vladimir putin signs decree ...   \n",
       "\n",
       "                                            text_sil  neg  neu  pos  compound  \\\n",
       "0  body missing princeton university student misr...  0.0  1.0  0.0       0.0   \n",
       "1  prime minister liz truss quits disastrous six ...  0.0  1.0  0.0       0.0   \n",
       "2  trump weighs letting federal agents return mar...  0.0  1.0  0.0       0.0   \n",
       "3  britain home secretary suella braverman quits ...  0.0  1.0  0.0       0.0   \n",
       "4  russian president vladimir putin signs decree ...  0.0  1.0  0.0       0.0   \n",
       "\n",
       "  sentiment  \n",
       "0   neutral  \n",
       "1   neutral  \n",
       "2   neutral  \n",
       "3   neutral  \n",
       "4   neutral  "
      ]
     },
     "execution_count": 38,
     "metadata": {},
     "output_type": "execute_result"
    }
   ],
   "source": [
    "df.head()"
   ]
  },
  {
   "cell_type": "markdown",
   "metadata": {
    "slideshow": {
     "slide_type": "slide"
    }
   },
   "source": [
    "### Max and min sentiment"
   ]
  },
  {
   "cell_type": "code",
   "execution_count": 40,
   "metadata": {
    "slideshow": {
     "slide_type": "fragment"
    }
   },
   "outputs": [
    {
     "data": {
      "text/plain": [
       "array(['the body of missing princeton university student misrach ewunetie has been found. https://t.co/66wv0od5ut',\n",
       "       Timestamp('2022-10-20 19:58:17+0000', tz='UTC'),\n",
       "       \"['the', 'body', 'of', 'missing', 'princeton', 'university', 'student', 'misrach', 'ewunetie', 'has', 'been', 'found', 'https', 't', 'co', '66wv0od5ut']\",\n",
       "       \"['body', 'missing', 'princeton', 'university', 'student', 'misrach', 'ewunetie', 'found', '66wv0od5ut']\",\n",
       "       'body missing princeton university student misrach ewunetie found 66wv0od5ut',\n",
       "       'body missing princeton university student misrach ewunetie found 66wv0od5ut',\n",
       "       0.0, 1.0, 0.0, 0.0, 'neutral'], dtype=object)"
      ]
     },
     "execution_count": 40,
     "metadata": {},
     "output_type": "execute_result"
    }
   ],
   "source": [
    "# Tweet with highest positive sentiment\n",
    "df.loc[df['compound'].idxmax()].values"
   ]
  },
  {
   "cell_type": "code",
   "execution_count": 41,
   "metadata": {
    "slideshow": {
     "slide_type": "subslide"
    }
   },
   "outputs": [
    {
     "data": {
      "text/plain": [
       "array(['the body of missing princeton university student misrach ewunetie has been found. https://t.co/66wv0od5ut',\n",
       "       Timestamp('2022-10-20 19:58:17+0000', tz='UTC'),\n",
       "       \"['the', 'body', 'of', 'missing', 'princeton', 'university', 'student', 'misrach', 'ewunetie', 'has', 'been', 'found', 'https', 't', 'co', '66wv0od5ut']\",\n",
       "       \"['body', 'missing', 'princeton', 'university', 'student', 'misrach', 'ewunetie', 'found', '66wv0od5ut']\",\n",
       "       'body missing princeton university student misrach ewunetie found 66wv0od5ut',\n",
       "       'body missing princeton university student misrach ewunetie found 66wv0od5ut',\n",
       "       0.0, 1.0, 0.0, 0.0, 'neutral'], dtype=object)"
      ]
     },
     "execution_count": 41,
     "metadata": {},
     "output_type": "execute_result"
    }
   ],
   "source": [
    "# Tweet with highest negative sentiment \n",
    "# ...seems to be a case of wrong classification because of the word \"deficit\"\n",
    "df.loc[df['compound'].idxmin()].values"
   ]
  },
  {
   "cell_type": "markdown",
   "metadata": {
    "slideshow": {
     "slide_type": "slide"
    }
   },
   "source": [
    "### Visualize data"
   ]
  },
  {
   "cell_type": "code",
   "execution_count": 42,
   "metadata": {},
   "outputs": [
    {
     "data": {
      "text/html": [
       "\n",
       "<div id=\"altair-viz-2e1d15b557be4fcd957ef06d7074a976\"></div>\n",
       "<script type=\"text/javascript\">\n",
       "  var VEGA_DEBUG = (typeof VEGA_DEBUG == \"undefined\") ? {} : VEGA_DEBUG;\n",
       "  (function(spec, embedOpt){\n",
       "    let outputDiv = document.currentScript.previousElementSibling;\n",
       "    if (outputDiv.id !== \"altair-viz-2e1d15b557be4fcd957ef06d7074a976\") {\n",
       "      outputDiv = document.getElementById(\"altair-viz-2e1d15b557be4fcd957ef06d7074a976\");\n",
       "    }\n",
       "    const paths = {\n",
       "      \"vega\": \"https://cdn.jsdelivr.net/npm//vega@5?noext\",\n",
       "      \"vega-lib\": \"https://cdn.jsdelivr.net/npm//vega-lib?noext\",\n",
       "      \"vega-lite\": \"https://cdn.jsdelivr.net/npm//vega-lite@4.17.0?noext\",\n",
       "      \"vega-embed\": \"https://cdn.jsdelivr.net/npm//vega-embed@6?noext\",\n",
       "    };\n",
       "\n",
       "    function maybeLoadScript(lib, version) {\n",
       "      var key = `${lib.replace(\"-\", \"\")}_version`;\n",
       "      return (VEGA_DEBUG[key] == version) ?\n",
       "        Promise.resolve(paths[lib]) :\n",
       "        new Promise(function(resolve, reject) {\n",
       "          var s = document.createElement('script');\n",
       "          document.getElementsByTagName(\"head\")[0].appendChild(s);\n",
       "          s.async = true;\n",
       "          s.onload = () => {\n",
       "            VEGA_DEBUG[key] = version;\n",
       "            return resolve(paths[lib]);\n",
       "          };\n",
       "          s.onerror = () => reject(`Error loading script: ${paths[lib]}`);\n",
       "          s.src = paths[lib];\n",
       "        });\n",
       "    }\n",
       "\n",
       "    function showError(err) {\n",
       "      outputDiv.innerHTML = `<div class=\"error\" style=\"color:red;\">${err}</div>`;\n",
       "      throw err;\n",
       "    }\n",
       "\n",
       "    function displayChart(vegaEmbed) {\n",
       "      vegaEmbed(outputDiv, spec, embedOpt)\n",
       "        .catch(err => showError(`Javascript Error: ${err.message}<br>This usually means there's a typo in your chart specification. See the javascript console for the full traceback.`));\n",
       "    }\n",
       "\n",
       "    if(typeof define === \"function\" && define.amd) {\n",
       "      requirejs.config({paths});\n",
       "      require([\"vega-embed\"], displayChart, err => showError(`Error loading script: ${err.message}`));\n",
       "    } else {\n",
       "      maybeLoadScript(\"vega\", \"5\")\n",
       "        .then(() => maybeLoadScript(\"vega-lite\", \"4.17.0\"))\n",
       "        .then(() => maybeLoadScript(\"vega-embed\", \"6\"))\n",
       "        .catch(showError)\n",
       "        .then(() => displayChart(vegaEmbed));\n",
       "    }\n",
       "  })({\"config\": {\"view\": {\"continuousWidth\": 400, \"continuousHeight\": 300}}, \"data\": {\"name\": \"data-e450abb7408e300f4dcf6e20a8ec5e20\"}, \"mark\": \"bar\", \"encoding\": {\"color\": {\"field\": \"sentiment\", \"legend\": null, \"scale\": {\"domain\": [\"neutral\", \"positive\", \"negative\"], \"range\": [\"#b2d8d8\", \"#008080\", \"#db3d13\"]}, \"type\": \"nominal\"}, \"x\": {\"aggregate\": \"count\", \"title\": null, \"type\": \"quantitative\"}, \"y\": {\"field\": \"sentiment\", \"sort\": \"-x\", \"type\": \"nominal\"}}, \"height\": 150, \"title\": \"Sentiment analysis\", \"width\": 400, \"$schema\": \"https://vega.github.io/schema/vega-lite/v4.17.0.json\", \"datasets\": {\"data-e450abb7408e300f4dcf6e20a8ec5e20\": [{\"text\": \"the body of missing princeton university student misrach ewunetie has been found. https://t.co/66wv0od5ut\", \"created_at\": \"2022-10-20T19:58:17+00:00\", \"text_token\": \"['the', 'body', 'of', 'missing', 'princeton', 'university', 'student', 'misrach', 'ewunetie', 'has', 'been', 'found', 'https', 't', 'co', '66wv0od5ut']\", \"text_token_s\": \"['body', 'missing', 'princeton', 'university', 'student', 'misrach', 'ewunetie', 'found', '66wv0od5ut']\", \"text_si\": \"body missing princeton university student misrach ewunetie found 66wv0od5ut\", \"text_sil\": \"body missing princeton university student misrach ewunetie found 66wv0od5ut\", \"neg\": 0.0, \"neu\": 1.0, \"pos\": 0.0, \"compound\": 0.0, \"sentiment\": \"neutral\"}, {\"text\": \"uk prime minister liz truss quits after a disastrous six weeks in office, putting her on course to be britain's shortest-serving leader https://t.co/0o0xqscrxi\", \"created_at\": \"2022-10-20T12:37:10+00:00\", \"text_token\": \"['uk', 'prime', 'minister', 'liz', 'truss', 'quits', 'after', 'a', 'disastrous', 'six', 'weeks', 'in', 'office', 'putting', 'her', 'on', 'course', 'to', 'be', 'britain', 's', 'shortest', 'serving', 'leader', 'https', 't', 'co', '0o0xqscrxi']\", \"text_token_s\": \"['uk', 'prime', 'minister', 'liz', 'truss', 'quits', 'disastrous', 'six', 'weeks', 'office', 'putting', 'course', 'britain', 'shortest', 'serving', 'leader', '0o0xqscrxi']\", \"text_si\": \"prime minister liz truss quits disastrous six weeks office putting course britain shortest serving leader 0o0xqscrxi\", \"text_sil\": \"prime minister liz truss quits disastrous six weeks office putting course britain shortest serving leader 0o0xqscrxi\", \"neg\": 0.0, \"neu\": 1.0, \"pos\": 0.0, \"compound\": 0.0, \"sentiment\": \"neutral\"}, {\"text\": \"trump weighs letting federal agents return to mar-a-lago, potentially for a supervised search, as the government seeks to ensure all docs are returned. https://t.co/ppjifj2qqq\", \"created_at\": \"2022-10-19T23:03:37+00:00\", \"text_token\": \"['trump', 'weighs', 'letting', 'federal', 'agents', 'return', 'to', 'mar', 'a', 'lago', 'potentially', 'for', 'a', 'supervised', 'search', 'as', 'the', 'government', 'seeks', 'to', 'ensure', 'all', 'docs', 'are', 'returned', 'https', 't', 'co', 'ppjifj2qqq']\", \"text_token_s\": \"['trump', 'weighs', 'letting', 'federal', 'agents', 'return', 'mar', 'lago', 'potentially', 'supervised', 'search', 'government', 'seeks', 'ensure', 'docs', 'returned', 'ppjifj2qqq']\", \"text_si\": \"trump weighs letting federal agents return mar lago potentially supervised search government seeks ensure docs returned ppjifj2qqq\", \"text_sil\": \"trump weighs letting federal agents return mar lago potentially supervised search government seeks ensure docs returned ppjifj2qqq\", \"neg\": 0.0, \"neu\": 1.0, \"pos\": 0.0, \"compound\": 0.0, \"sentiment\": \"neutral\"}, {\"text\": \"britain's home secretary suella braverman quits, throwing the government of embattled prime minister liz truss into further turmoil. https://t.co/xizzmajsao\", \"created_at\": \"2022-10-19T16:17:29+00:00\", \"text_token\": \"['britain', 's', 'home', 'secretary', 'suella', 'braverman', 'quits', 'throwing', 'the', 'government', 'of', 'embattled', 'prime', 'minister', 'liz', 'truss', 'into', 'further', 'turmoil', 'https', 't', 'co', 'xizzmajsao']\", \"text_token_s\": \"['britain', 'home', 'secretary', 'suella', 'braverman', 'quits', 'throwing', 'government', 'embattled', 'prime', 'minister', 'liz', 'truss', 'turmoil', 'xizzmajsao']\", \"text_si\": \"britain home secretary suella braverman quits throwing government embattled prime minister liz truss turmoil xizzmajsao\", \"text_sil\": \"britain home secretary suella braverman quits throwing government embattled prime minister liz truss turmoil xizzmajsao\", \"neg\": 0.0, \"neu\": 1.0, \"pos\": 0.0, \"compound\": 0.0, \"sentiment\": \"neutral\"}, {\"text\": \"russian president vladimir putin signs a decree introducing martial law in four ukrainian regions that moscow recently claimed to have annexed https://t.co/i4d4skhrge\", \"created_at\": \"2022-10-19T12:02:15+00:00\", \"text_token\": \"['russian', 'president', 'vladimir', 'putin', 'signs', 'a', 'decree', 'introducing', 'martial', 'law', 'in', 'four', 'ukrainian', 'regions', 'that', 'moscow', 'recently', 'claimed', 'to', 'have', 'annexed', 'https', 't', 'co', 'i4d4skhrge']\", \"text_token_s\": \"['russian', 'president', 'vladimir', 'putin', 'signs', 'decree', 'introducing', 'martial', 'law', 'four', 'ukrainian', 'regions', 'moscow', 'recently', 'claimed', 'annexed', 'i4d4skhrge']\", \"text_si\": \"russian president vladimir putin signs decree introducing martial law four ukrainian regions moscow recently claimed annexed i4d4skhrge\", \"text_sil\": \"russian president vladimir putin signs decree introducing martial law four ukrainian regions moscow recently claimed annexed i4d4skhrge\", \"neg\": 0.0, \"neu\": 1.0, \"pos\": 0.0, \"compound\": 0.0, \"sentiment\": \"neutral\"}, {\"text\": \"rising food and housing costs drove uk inflation back to a 40-year high of 10.1% in september https://t.co/rzcvzuvhap\", \"created_at\": \"2022-10-19T09:04:45+00:00\", \"text_token\": \"['rising', 'food', 'and', 'housing', 'costs', 'drove', 'uk', 'inflation', 'back', 'to', 'a', '40', 'year', 'high', 'of', '10', '1', 'in', 'september', 'https', 't', 'co', 'rzcvzuvhap']\", \"text_token_s\": \"['rising', 'food', 'housing', 'costs', 'drove', 'uk', 'inflation', 'back', '40', 'year', 'high', '10', '1', 'september', 'rzcvzuvhap']\", \"text_si\": \"rising food housing costs drove inflation back year high september rzcvzuvhap\", \"text_sil\": \"rising food housing costs drove inflation back year high september rzcvzuvhap\", \"neg\": 0.0, \"neu\": 1.0, \"pos\": 0.0, \"compound\": 0.0, \"sentiment\": \"neutral\"}, {\"text\": \"jury finds paul flores guilty of first-degree murder in the death of kristin smart. his father was found not guilty of being an accessory to the murder. https://t.co/kiypga2ytv\", \"created_at\": \"2022-10-18T21:35:05+00:00\", \"text_token\": \"['jury', 'finds', 'paul', 'flores', 'guilty', 'of', 'first', 'degree', 'murder', 'in', 'the', 'death', 'of', 'kristin', 'smart', 'his', 'father', 'was', 'found', 'not', 'guilty', 'of', 'being', 'an', 'accessory', 'to', 'the', 'murder', 'https', 't', 'co', 'kiypga2ytv']\", \"text_token_s\": \"['jury', 'finds', 'paul', 'flores', 'guilty', 'first', 'degree', 'murder', 'death', 'kristin', 'smart', 'father', 'found', 'guilty', 'accessory', 'murder', 'kiypga2ytv']\", \"text_si\": \"jury finds paul flores guilty first degree murder death kristin smart father found guilty accessory murder kiypga2ytv\", \"text_sil\": \"jury finds paul flores guilty first degree murder death kristin smart father found guilty accessory murder kiypga2ytv\", \"neg\": 0.0, \"neu\": 1.0, \"pos\": 0.0, \"compound\": 0.0, \"sentiment\": \"neutral\"}, {\"text\": \"russian expat who was the main source for infamous trump dossier is acquitted of lying to the fbi, an embarrassing defeat for special counsel durham\\nhttps://t.co/vu0cacf8zn\", \"created_at\": \"2022-10-18T20:29:03+00:00\", \"text_token\": \"['russian', 'expat', 'who', 'was', 'the', 'main', 'source', 'for', 'infamous', 'trump', 'dossier', 'is', 'acquitted', 'of', 'lying', 'to', 'the', 'fbi', 'an', 'embarrassing', 'defeat', 'for', 'special', 'counsel', 'durham', 'https', 't', 'co', 'vu0cacf8zn']\", \"text_token_s\": \"['russian', 'expat', 'main', 'source', 'infamous', 'trump', 'dossier', 'acquitted', 'lying', 'fbi', 'embarrassing', 'defeat', 'special', 'counsel', 'durham', 'vu0cacf8zn']\", \"text_si\": \"russian expat main source infamous trump dossier acquitted lying fbi embarrassing defeat special counsel durham vu0cacf8zn\", \"text_sil\": \"russian expat main source infamous trump dossier acquitted lying fbi embarrassing defeat special counsel durham vu0cacf8zn\", \"neg\": 0.0, \"neu\": 1.0, \"pos\": 0.0, \"compound\": 0.0, \"sentiment\": \"neutral\"}, {\"text\": \"a pilot and passenger are dead after a plane crashed into a car dealership lot near marietta, ohio. authorities say no one on the ground was injured https://t.co/xoyydu8lb6\", \"created_at\": \"2022-10-18T16:00:21+00:00\", \"text_token\": \"['a', 'pilot', 'and', 'passenger', 'are', 'dead', 'after', 'a', 'plane', 'crashed', 'into', 'a', 'car', 'dealership', 'lot', 'near', 'marietta', 'ohio', 'authorities', 'say', 'no', 'one', 'on', 'the', 'ground', 'was', 'injured', 'https', 't', 'co', 'xoyydu8lb6']\", \"text_token_s\": \"['pilot', 'passenger', 'dead', 'plane', 'crashed', 'car', 'dealership', 'lot', 'near', 'marietta', 'ohio', 'authorities', 'say', 'one', 'ground', 'injured', 'xoyydu8lb6']\", \"text_si\": \"pilot passenger dead plane crashed car dealership lot near marietta ohio authorities say one ground injured xoyydu8lb6\", \"text_sil\": \"pilot passenger dead plane crashed car dealership lot near marietta ohio authorities say one ground injured xoyydu8lb6\", \"neg\": 0.0, \"neu\": 1.0, \"pos\": 0.0, \"compound\": 0.0, \"sentiment\": \"neutral\"}, {\"text\": \"ukraine's president zelensky says 30% of the country's power stations have been destroyed in russia's latest round of attacks https://t.co/dy8rz68qm8\", \"created_at\": \"2022-10-18T10:33:29+00:00\", \"text_token\": \"['ukraine', 's', 'president', 'zelensky', 'says', '30', 'of', 'the', 'country', 's', 'power', 'stations', 'have', 'been', 'destroyed', 'in', 'russia', 's', 'latest', 'round', 'of', 'attacks', 'https', 't', 'co', 'dy8rz68qm8']\", \"text_token_s\": \"['ukraine', 'president', 'zelensky', 'says', '30', 'country', 'power', 'stations', 'destroyed', 'russia', 'latest', 'round', 'attacks', 'dy8rz68qm8']\", \"text_si\": \"ukraine president zelensky says country power stations destroyed russia latest round attacks dy8rz68qm8\", \"text_sil\": \"ukraine president zelensky says country power stations destroyed russia latest round attacks dy8rz68qm8\", \"neg\": 0.0, \"neu\": 1.0, \"pos\": 0.0, \"compound\": 0.0, \"sentiment\": \"neutral\"}, {\"text\": \"president biden announces the formal launch of the student loan forgiveness application website https://t.co/qw0k3trl4b\", \"created_at\": \"2022-10-17T19:27:45+00:00\", \"text_token\": \"['president', 'biden', 'announces', 'the', 'formal', 'launch', 'of', 'the', 'student', 'loan', 'forgiveness', 'application', 'website', 'https', 't', 'co', 'qw0k3trl4b']\", \"text_token_s\": \"['president', 'biden', 'announces', 'formal', 'launch', 'student', 'loan', 'forgiveness', 'application', 'website', 'qw0k3trl4b']\", \"text_si\": \"president biden announces formal launch student loan forgiveness application website qw0k3trl4b\", \"text_sil\": \"president biden announces formal launch student loan forgiveness application website qw0k3trl4b\", \"neg\": 0.0, \"neu\": 1.0, \"pos\": 0.0, \"compound\": 0.0, \"sentiment\": \"neutral\"}, {\"text\": \"a russian fighter jet has crashed into a residential building after taking off from a military airfield, state media reports https://t.co/reczia3ix3\", \"created_at\": \"2022-10-17T17:27:13+00:00\", \"text_token\": \"['a', 'russian', 'fighter', 'jet', 'has', 'crashed', 'into', 'a', 'residential', 'building', 'after', 'taking', 'off', 'from', 'a', 'military', 'airfield', 'state', 'media', 'reports', 'https', 't', 'co', 'reczia3ix3']\", \"text_token_s\": \"['russian', 'fighter', 'jet', 'crashed', 'residential', 'building', 'taking', 'military', 'airfield', 'state', 'media', 'reports', 'reczia3ix3']\", \"text_si\": \"russian fighter jet crashed residential building taking military airfield state media reports reczia3ix3\", \"text_sil\": \"russian fighter jet crashed residential building taking military airfield state media reports reczia3ix3\", \"neg\": 0.0, \"neu\": 1.0, \"pos\": 0.0, \"compound\": 0.0, \"sentiment\": \"neutral\"}, {\"text\": \"former president donald trump's company charged the secret service as much as $1,185 per night at its properties despite claims they'd stay free or \\\"at cost,\\\" house panel says https://t.co/v69rtpyzsq\", \"created_at\": \"2022-10-17T16:31:30+00:00\", \"text_token\": \"['former', 'president', 'donald', 'trump', 's', 'company', 'charged', 'the', 'secret', 'service', 'as', 'much', 'as', '1', '185', 'per', 'night', 'at', 'its', 'properties', 'despite', 'claims', 'they', 'd', 'stay', 'free', 'or', 'at', 'cost', 'house', 'panel', 'says', 'https', 't', 'co', 'v69rtpyzsq']\", \"text_token_s\": \"['former', 'president', 'donald', 'trump', 'company', 'charged', 'secret', 'service', 'much', '1', '185', 'per', 'night', 'properties', 'despite', 'claims', 'stay', 'free', 'cost', 'house', 'panel', 'says', 'v69rtpyzsq']\", \"text_si\": \"former president donald trump company charged secret service much 185 per night properties despite claims stay free cost house panel says v69rtpyzsq\", \"text_sil\": \"former president donald trump company charged secret service much 185 per night properties despite claims stay free cost house panel says v69rtpyzsq\", \"neg\": 0.0, \"neu\": 1.0, \"pos\": 0.0, \"compound\": 0.0, \"sentiment\": \"neutral\"}, {\"text\": \"steve bannon sentencing recommendation seeks six months in prison plus $200,000 in fines for contempt of congress conviction\\nhttps://t.co/qq4l6vlou5\", \"created_at\": \"2022-10-17T13:08:39+00:00\", \"text_token\": \"['steve', 'bannon', 'sentencing', 'recommendation', 'seeks', 'six', 'months', 'in', 'prison', 'plus', '200', '000', 'in', 'fines', 'for', 'contempt', 'of', 'congress', 'conviction', 'https', 't', 'co', 'qq4l6vlou5']\", \"text_token_s\": \"['steve', 'bannon', 'sentencing', 'recommendation', 'seeks', 'six', 'months', 'prison', 'plus', '200', '000', 'fines', 'contempt', 'congress', 'conviction', 'qq4l6vlou5']\", \"text_si\": \"steve bannon sentencing recommendation seeks six months prison plus 200 000 fines contempt congress conviction qq4l6vlou5\", \"text_sil\": \"steve bannon sentencing recommendation seeks six months prison plus 200 000 fines contempt congress conviction qq4l6vlou5\", \"neg\": 0.0, \"neu\": 1.0, \"pos\": 0.0, \"compound\": 0.0, \"sentiment\": \"neutral\"}, {\"text\": \"blasts were heard in the ukrainian capital as a result of apparent russian missile strikes on monday morning. follow live updates.\\nhttps://t.co/h0p9xux3wk\", \"created_at\": \"2022-10-17T05:12:01+00:00\", \"text_token\": \"['blasts', 'were', 'heard', 'in', 'the', 'ukrainian', 'capital', 'as', 'a', 'result', 'of', 'apparent', 'russian', 'missile', 'strikes', 'on', 'monday', 'morning', 'follow', 'live', 'updates', 'https', 't', 'co', 'h0p9xux3wk']\", \"text_token_s\": \"['blasts', 'heard', 'ukrainian', 'capital', 'result', 'apparent', 'russian', 'missile', 'strikes', 'monday', 'morning', 'follow', 'live', 'updates', 'h0p9xux3wk']\", \"text_si\": \"blasts heard ukrainian capital result apparent russian missile strikes monday morning follow live updates h0p9xux3wk\", \"text_sil\": \"blasts heard ukrainian capital result apparent russian missile strikes monday morning follow live updates h0p9xux3wk\", \"neg\": 0.0, \"neu\": 1.0, \"pos\": 0.0, \"compound\": 0.0, \"sentiment\": \"neutral\"}, {\"text\": \"authorities in central california have arrested a man in connection with a series of killings that claimed the lives of six people https://t.co/nlzrnsmb11\", \"created_at\": \"2022-10-15T23:48:28+00:00\", \"text_token\": \"['authorities', 'in', 'central', 'california', 'have', 'arrested', 'a', 'man', 'in', 'connection', 'with', 'a', 'series', 'of', 'killings', 'that', 'claimed', 'the', 'lives', 'of', 'six', 'people', 'https', 't', 'co', 'nlzrnsmb11']\", \"text_token_s\": \"['authorities', 'central', 'california', 'arrested', 'man', 'connection', 'series', 'killings', 'claimed', 'lives', 'six', 'people', 'nlzrnsmb11']\", \"text_si\": \"authorities central california arrested man connection series killings claimed lives six people nlzrnsmb11\", \"text_sil\": \"authorities central california arrested man connection series killings claimed lives six people nlzrnsmb11\", \"neg\": 0.0, \"neu\": 1.0, \"pos\": 0.0, \"compound\": 0.0, \"sentiment\": \"neutral\"}, {\"text\": \"bruce sutter, a cy young award-winning relief pitcher and world series champion who pioneered the split-finger fastball, has died at 69. https://t.co/rdnsvno63v\", \"created_at\": \"2022-10-14T20:06:13+00:00\", \"text_token\": \"['bruce', 'sutter', 'a', 'cy', 'young', 'award', 'winning', 'relief', 'pitcher', 'and', 'world', 'series', 'champion', 'who', 'pioneered', 'the', 'split', 'finger', 'fastball', 'has', 'died', 'at', '69', 'https', 't', 'co', 'rdnsvno63v']\", \"text_token_s\": \"['bruce', 'sutter', 'cy', 'young', 'award', 'winning', 'relief', 'pitcher', 'world', 'series', 'champion', 'pioneered', 'split', 'finger', 'fastball', 'died', '69', 'rdnsvno63v']\", \"text_si\": \"bruce sutter young award winning relief pitcher world series champion pioneered split finger fastball died rdnsvno63v\", \"text_sil\": \"bruce sutter young award winning relief pitcher world series champion pioneered split finger fastball died rdnsvno63v\", \"neg\": 0.0, \"neu\": 1.0, \"pos\": 0.0, \"compound\": 0.0, \"sentiment\": \"neutral\"}, {\"text\": \"judge throws out one of five charges against igor danchenko, main source of trump-russia dossier, in major setback for special counsel durham's probe https://t.co/rhtcheq0ei\", \"created_at\": \"2022-10-14T19:39:52+00:00\", \"text_token\": \"['judge', 'throws', 'out', 'one', 'of', 'five', 'charges', 'against', 'igor', 'danchenko', 'main', 'source', 'of', 'trump', 'russia', 'dossier', 'in', 'major', 'setback', 'for', 'special', 'counsel', 'durham', 's', 'probe', 'https', 't', 'co', 'rhtcheq0ei']\", \"text_token_s\": \"['judge', 'throws', 'one', 'five', 'charges', 'igor', 'danchenko', 'main', 'source', 'trump', 'russia', 'dossier', 'major', 'setback', 'special', 'counsel', 'durham', 'probe', 'rhtcheq0ei']\", \"text_si\": \"judge throws one five charges igor danchenko main source trump russia dossier major setback special counsel durham probe rhtcheq0ei\", \"text_sil\": \"judge throws one five charges igor danchenko main source trump russia dossier major setback special counsel durham probe rhtcheq0ei\", \"neg\": 0.0, \"neu\": 1.0, \"pos\": 0.0, \"compound\": 0.0, \"sentiment\": \"neutral\"}, {\"text\": \"robbie coltrane, the actor who brought to life the lovable gamekeeper hagrid in the harry potter film franchise, died friday, according to his agent. https://t.co/prw2bt21ry https://t.co/cavfrexhri\", \"created_at\": \"2022-10-14T17:30:19+00:00\", \"text_token\": \"['robbie', 'coltrane', 'the', 'actor', 'who', 'brought', 'to', 'life', 'the', 'lovable', 'gamekeeper', 'hagrid', 'in', 'the', 'harry', 'potter', 'film', 'franchise', 'died', 'friday', 'according', 'to', 'his', 'agent', 'https', 't', 'co', 'prw2bt21ry', 'https', 't', 'co', 'cavfrexhri']\", \"text_token_s\": \"['robbie', 'coltrane', 'actor', 'brought', 'life', 'lovable', 'gamekeeper', 'hagrid', 'harry', 'potter', 'film', 'franchise', 'died', 'friday', 'according', 'agent', 'prw2bt21ry', 'cavfrexhri']\", \"text_si\": \"robbie coltrane actor brought life lovable gamekeeper hagrid harry potter film franchise died friday according agent prw2bt21ry cavfrexhri\", \"text_sil\": \"robbie coltrane actor brought life lovable gamekeeper hagrid harry potter film franchise died friday according agent prw2bt21ry cavfrexhri\", \"neg\": 0.0, \"neu\": 1.0, \"pos\": 0.0, \"compound\": 0.0, \"sentiment\": \"neutral\"}, {\"text\": \"former president trump has not said whether he will comply with a subpoena by the house select committee investigating the january 6, 2021, capitol hill insurrection https://t.co/0ynzmnguuw\", \"created_at\": \"2022-10-14T14:52:35+00:00\", \"text_token\": \"['former', 'president', 'trump', 'has', 'not', 'said', 'whether', 'he', 'will', 'comply', 'with', 'a', 'subpoena', 'by', 'the', 'house', 'select', 'committee', 'investigating', 'the', 'january', '6', '2021', 'capitol', 'hill', 'insurrection', 'https', 't', 'co', '0ynzmnguuw']\", \"text_token_s\": \"['former', 'president', 'trump', 'said', 'whether', 'comply', 'subpoena', 'house', 'select', 'committee', 'investigating', 'january', '6', '2021', 'capitol', 'hill', 'insurrection', '0ynzmnguuw']\", \"text_si\": \"former president trump said whether comply subpoena house select committee investigating january 2021 capitol hill insurrection 0ynzmnguuw\", \"text_sil\": \"former president trump said whether comply subpoena house select committee investigating january 2021 capitol hill insurrection 0ynzmnguuw\", \"neg\": 0.0, \"neu\": 1.0, \"pos\": 0.0, \"compound\": 0.0, \"sentiment\": \"neutral\"}, {\"text\": \"kwasi kwarteng has been fired as britain's chancellor just weeks into the job, a senior source inside downing street has confirmed to cnn.\\n\\nfollow live updates \\ud83d\\udc49 https://t.co/4ec7sm1ctv\", \"created_at\": \"2022-10-14T11:44:29+00:00\", \"text_token\": \"['kwasi', 'kwarteng', 'has', 'been', 'fired', 'as', 'britain', 's', 'chancellor', 'just', 'weeks', 'into', 'the', 'job', 'a', 'senior', 'source', 'inside', 'downing', 'street', 'has', 'confirmed', 'to', 'cnn', 'follow', 'live', 'updates', 'https', 't', 'co', '4ec7sm1ctv']\", \"text_token_s\": \"['kwasi', 'kwarteng', 'fired', 'britain', 'chancellor', 'weeks', 'job', 'senior', 'source', 'inside', 'downing', 'street', 'confirmed', 'cnn', 'follow', 'live', 'updates', '4ec7sm1ctv']\", \"text_si\": \"kwasi kwarteng fired britain chancellor weeks job senior source inside downing street confirmed cnn follow live updates 4ec7sm1ctv\", \"text_sil\": \"kwasi kwarteng fired britain chancellor weeks job senior source inside downing street confirmed cnn follow live updates 4ec7sm1ctv\", \"neg\": 0.0, \"neu\": 1.0, \"pos\": 0.0, \"compound\": 0.0, \"sentiment\": \"neutral\"}, {\"text\": \"kroger announces it's merging with albertsons in a $24.6 billion deal, creating one of the largest grocery store chains in the us https://t.co/s3fzgtffic\", \"created_at\": \"2022-10-14T11:40:16+00:00\", \"text_token\": \"['kroger', 'announces', 'it', 's', 'merging', 'with', 'albertsons', 'in', 'a', '24', '6', 'billion', 'deal', 'creating', 'one', 'of', 'the', 'largest', 'grocery', 'store', 'chains', 'in', 'the', 'us', 'https', 't', 'co', 's3fzgtffic']\", \"text_token_s\": \"['kroger', 'announces', 'merging', 'albertsons', '24', '6', 'billion', 'deal', 'creating', 'one', 'largest', 'grocery', 'store', 'chains', 'us', 's3fzgtffic']\", \"text_si\": \"kroger announces merging albertsons billion deal creating one largest grocery store chains s3fzgtffic\", \"text_sil\": \"kroger announces merging albertsons billion deal creating one largest grocery store chains s3fzgtffic\", \"neg\": 0.0, \"neu\": 1.0, \"pos\": 0.0, \"compound\": 0.0, \"sentiment\": \"neutral\"}]}}, {\"mode\": \"vega-lite\"});\n",
       "</script>"
      ],
      "text/plain": [
       "alt.Chart(...)"
      ]
     },
     "execution_count": 42,
     "metadata": {},
     "output_type": "execute_result"
    }
   ],
   "source": [
    "import altair as alt\n",
    "\n",
    "# create data to change colors in Altair plot\n",
    "domain = ['neutral', 'positive', 'negative']\n",
    "range_=['#b2d8d8',\"#008080\", '#db3d13']\n",
    "\n",
    "\n",
    "alt.Chart(df).mark_bar().encode(\n",
    "    x=alt.X('count()', title=None),\n",
    "    y=alt.Y('sentiment', sort=\"-x\"),\n",
    "    color= alt.Color('sentiment', legend=None, scale=alt.Scale(domain=domain, range=range_))\n",
    ").properties(\n",
    "    title=\"Sentiment analysis\",\n",
    "    width=400,\n",
    "    height=150,\n",
    ")"
   ]
  },
  {
   "cell_type": "code",
   "execution_count": 43,
   "metadata": {},
   "outputs": [
    {
     "name": "stdout",
     "output_type": "stream",
     "text": [
      "<class 'pandas.core.frame.DataFrame'>\n",
      "RangeIndex: 22 entries, 0 to 21\n",
      "Data columns (total 11 columns):\n",
      " #   Column        Non-Null Count  Dtype              \n",
      "---  ------        --------------  -----              \n",
      " 0   text          22 non-null     object             \n",
      " 1   created_at    22 non-null     datetime64[ns, UTC]\n",
      " 2   text_token    22 non-null     object             \n",
      " 3   text_token_s  22 non-null     object             \n",
      " 4   text_si       22 non-null     object             \n",
      " 5   text_sil      22 non-null     object             \n",
      " 6   neg           22 non-null     float64            \n",
      " 7   neu           22 non-null     float64            \n",
      " 8   pos           22 non-null     float64            \n",
      " 9   compound      22 non-null     float64            \n",
      " 10  sentiment     22 non-null     object             \n",
      "dtypes: datetime64[ns, UTC](1), float64(4), object(6)\n",
      "memory usage: 2.0+ KB\n"
     ]
    }
   ],
   "source": [
    "df.info()"
   ]
  },
  {
   "cell_type": "code",
   "execution_count": 44,
   "metadata": {},
   "outputs": [
    {
     "data": {
      "text/html": [
       "\n",
       "<div id=\"altair-viz-356349e4ceb246d49b97f645495674b6\"></div>\n",
       "<script type=\"text/javascript\">\n",
       "  var VEGA_DEBUG = (typeof VEGA_DEBUG == \"undefined\") ? {} : VEGA_DEBUG;\n",
       "  (function(spec, embedOpt){\n",
       "    let outputDiv = document.currentScript.previousElementSibling;\n",
       "    if (outputDiv.id !== \"altair-viz-356349e4ceb246d49b97f645495674b6\") {\n",
       "      outputDiv = document.getElementById(\"altair-viz-356349e4ceb246d49b97f645495674b6\");\n",
       "    }\n",
       "    const paths = {\n",
       "      \"vega\": \"https://cdn.jsdelivr.net/npm//vega@5?noext\",\n",
       "      \"vega-lib\": \"https://cdn.jsdelivr.net/npm//vega-lib?noext\",\n",
       "      \"vega-lite\": \"https://cdn.jsdelivr.net/npm//vega-lite@4.17.0?noext\",\n",
       "      \"vega-embed\": \"https://cdn.jsdelivr.net/npm//vega-embed@6?noext\",\n",
       "    };\n",
       "\n",
       "    function maybeLoadScript(lib, version) {\n",
       "      var key = `${lib.replace(\"-\", \"\")}_version`;\n",
       "      return (VEGA_DEBUG[key] == version) ?\n",
       "        Promise.resolve(paths[lib]) :\n",
       "        new Promise(function(resolve, reject) {\n",
       "          var s = document.createElement('script');\n",
       "          document.getElementsByTagName(\"head\")[0].appendChild(s);\n",
       "          s.async = true;\n",
       "          s.onload = () => {\n",
       "            VEGA_DEBUG[key] = version;\n",
       "            return resolve(paths[lib]);\n",
       "          };\n",
       "          s.onerror = () => reject(`Error loading script: ${paths[lib]}`);\n",
       "          s.src = paths[lib];\n",
       "        });\n",
       "    }\n",
       "\n",
       "    function showError(err) {\n",
       "      outputDiv.innerHTML = `<div class=\"error\" style=\"color:red;\">${err}</div>`;\n",
       "      throw err;\n",
       "    }\n",
       "\n",
       "    function displayChart(vegaEmbed) {\n",
       "      vegaEmbed(outputDiv, spec, embedOpt)\n",
       "        .catch(err => showError(`Javascript Error: ${err.message}<br>This usually means there's a typo in your chart specification. See the javascript console for the full traceback.`));\n",
       "    }\n",
       "\n",
       "    if(typeof define === \"function\" && define.amd) {\n",
       "      requirejs.config({paths});\n",
       "      require([\"vega-embed\"], displayChart, err => showError(`Error loading script: ${err.message}`));\n",
       "    } else {\n",
       "      maybeLoadScript(\"vega\", \"5\")\n",
       "        .then(() => maybeLoadScript(\"vega-lite\", \"4.17.0\"))\n",
       "        .then(() => maybeLoadScript(\"vega-embed\", \"6\"))\n",
       "        .catch(showError)\n",
       "        .then(() => displayChart(vegaEmbed));\n",
       "    }\n",
       "  })({\"config\": {\"view\": {\"continuousWidth\": 400, \"continuousHeight\": 300}}, \"data\": {\"name\": \"data-e450abb7408e300f4dcf6e20a8ec5e20\"}, \"mark\": \"line\", \"encoding\": {\"color\": {\"field\": \"sentiment\", \"scale\": {\"domain\": [\"neutral\", \"positive\", \"negative\"], \"range\": [\"#b2d8d8\", \"#008080\", \"#db3d13\"]}, \"type\": \"nominal\"}, \"x\": {\"field\": \"created_at\", \"type\": \"temporal\"}, \"y\": {\"field\": \"compound\", \"type\": \"quantitative\"}}, \"$schema\": \"https://vega.github.io/schema/vega-lite/v4.17.0.json\", \"datasets\": {\"data-e450abb7408e300f4dcf6e20a8ec5e20\": [{\"text\": \"the body of missing princeton university student misrach ewunetie has been found. https://t.co/66wv0od5ut\", \"created_at\": \"2022-10-20T19:58:17+00:00\", \"text_token\": \"['the', 'body', 'of', 'missing', 'princeton', 'university', 'student', 'misrach', 'ewunetie', 'has', 'been', 'found', 'https', 't', 'co', '66wv0od5ut']\", \"text_token_s\": \"['body', 'missing', 'princeton', 'university', 'student', 'misrach', 'ewunetie', 'found', '66wv0od5ut']\", \"text_si\": \"body missing princeton university student misrach ewunetie found 66wv0od5ut\", \"text_sil\": \"body missing princeton university student misrach ewunetie found 66wv0od5ut\", \"neg\": 0.0, \"neu\": 1.0, \"pos\": 0.0, \"compound\": 0.0, \"sentiment\": \"neutral\"}, {\"text\": \"uk prime minister liz truss quits after a disastrous six weeks in office, putting her on course to be britain's shortest-serving leader https://t.co/0o0xqscrxi\", \"created_at\": \"2022-10-20T12:37:10+00:00\", \"text_token\": \"['uk', 'prime', 'minister', 'liz', 'truss', 'quits', 'after', 'a', 'disastrous', 'six', 'weeks', 'in', 'office', 'putting', 'her', 'on', 'course', 'to', 'be', 'britain', 's', 'shortest', 'serving', 'leader', 'https', 't', 'co', '0o0xqscrxi']\", \"text_token_s\": \"['uk', 'prime', 'minister', 'liz', 'truss', 'quits', 'disastrous', 'six', 'weeks', 'office', 'putting', 'course', 'britain', 'shortest', 'serving', 'leader', '0o0xqscrxi']\", \"text_si\": \"prime minister liz truss quits disastrous six weeks office putting course britain shortest serving leader 0o0xqscrxi\", \"text_sil\": \"prime minister liz truss quits disastrous six weeks office putting course britain shortest serving leader 0o0xqscrxi\", \"neg\": 0.0, \"neu\": 1.0, \"pos\": 0.0, \"compound\": 0.0, \"sentiment\": \"neutral\"}, {\"text\": \"trump weighs letting federal agents return to mar-a-lago, potentially for a supervised search, as the government seeks to ensure all docs are returned. https://t.co/ppjifj2qqq\", \"created_at\": \"2022-10-19T23:03:37+00:00\", \"text_token\": \"['trump', 'weighs', 'letting', 'federal', 'agents', 'return', 'to', 'mar', 'a', 'lago', 'potentially', 'for', 'a', 'supervised', 'search', 'as', 'the', 'government', 'seeks', 'to', 'ensure', 'all', 'docs', 'are', 'returned', 'https', 't', 'co', 'ppjifj2qqq']\", \"text_token_s\": \"['trump', 'weighs', 'letting', 'federal', 'agents', 'return', 'mar', 'lago', 'potentially', 'supervised', 'search', 'government', 'seeks', 'ensure', 'docs', 'returned', 'ppjifj2qqq']\", \"text_si\": \"trump weighs letting federal agents return mar lago potentially supervised search government seeks ensure docs returned ppjifj2qqq\", \"text_sil\": \"trump weighs letting federal agents return mar lago potentially supervised search government seeks ensure docs returned ppjifj2qqq\", \"neg\": 0.0, \"neu\": 1.0, \"pos\": 0.0, \"compound\": 0.0, \"sentiment\": \"neutral\"}, {\"text\": \"britain's home secretary suella braverman quits, throwing the government of embattled prime minister liz truss into further turmoil. https://t.co/xizzmajsao\", \"created_at\": \"2022-10-19T16:17:29+00:00\", \"text_token\": \"['britain', 's', 'home', 'secretary', 'suella', 'braverman', 'quits', 'throwing', 'the', 'government', 'of', 'embattled', 'prime', 'minister', 'liz', 'truss', 'into', 'further', 'turmoil', 'https', 't', 'co', 'xizzmajsao']\", \"text_token_s\": \"['britain', 'home', 'secretary', 'suella', 'braverman', 'quits', 'throwing', 'government', 'embattled', 'prime', 'minister', 'liz', 'truss', 'turmoil', 'xizzmajsao']\", \"text_si\": \"britain home secretary suella braverman quits throwing government embattled prime minister liz truss turmoil xizzmajsao\", \"text_sil\": \"britain home secretary suella braverman quits throwing government embattled prime minister liz truss turmoil xizzmajsao\", \"neg\": 0.0, \"neu\": 1.0, \"pos\": 0.0, \"compound\": 0.0, \"sentiment\": \"neutral\"}, {\"text\": \"russian president vladimir putin signs a decree introducing martial law in four ukrainian regions that moscow recently claimed to have annexed https://t.co/i4d4skhrge\", \"created_at\": \"2022-10-19T12:02:15+00:00\", \"text_token\": \"['russian', 'president', 'vladimir', 'putin', 'signs', 'a', 'decree', 'introducing', 'martial', 'law', 'in', 'four', 'ukrainian', 'regions', 'that', 'moscow', 'recently', 'claimed', 'to', 'have', 'annexed', 'https', 't', 'co', 'i4d4skhrge']\", \"text_token_s\": \"['russian', 'president', 'vladimir', 'putin', 'signs', 'decree', 'introducing', 'martial', 'law', 'four', 'ukrainian', 'regions', 'moscow', 'recently', 'claimed', 'annexed', 'i4d4skhrge']\", \"text_si\": \"russian president vladimir putin signs decree introducing martial law four ukrainian regions moscow recently claimed annexed i4d4skhrge\", \"text_sil\": \"russian president vladimir putin signs decree introducing martial law four ukrainian regions moscow recently claimed annexed i4d4skhrge\", \"neg\": 0.0, \"neu\": 1.0, \"pos\": 0.0, \"compound\": 0.0, \"sentiment\": \"neutral\"}, {\"text\": \"rising food and housing costs drove uk inflation back to a 40-year high of 10.1% in september https://t.co/rzcvzuvhap\", \"created_at\": \"2022-10-19T09:04:45+00:00\", \"text_token\": \"['rising', 'food', 'and', 'housing', 'costs', 'drove', 'uk', 'inflation', 'back', 'to', 'a', '40', 'year', 'high', 'of', '10', '1', 'in', 'september', 'https', 't', 'co', 'rzcvzuvhap']\", \"text_token_s\": \"['rising', 'food', 'housing', 'costs', 'drove', 'uk', 'inflation', 'back', '40', 'year', 'high', '10', '1', 'september', 'rzcvzuvhap']\", \"text_si\": \"rising food housing costs drove inflation back year high september rzcvzuvhap\", \"text_sil\": \"rising food housing costs drove inflation back year high september rzcvzuvhap\", \"neg\": 0.0, \"neu\": 1.0, \"pos\": 0.0, \"compound\": 0.0, \"sentiment\": \"neutral\"}, {\"text\": \"jury finds paul flores guilty of first-degree murder in the death of kristin smart. his father was found not guilty of being an accessory to the murder. https://t.co/kiypga2ytv\", \"created_at\": \"2022-10-18T21:35:05+00:00\", \"text_token\": \"['jury', 'finds', 'paul', 'flores', 'guilty', 'of', 'first', 'degree', 'murder', 'in', 'the', 'death', 'of', 'kristin', 'smart', 'his', 'father', 'was', 'found', 'not', 'guilty', 'of', 'being', 'an', 'accessory', 'to', 'the', 'murder', 'https', 't', 'co', 'kiypga2ytv']\", \"text_token_s\": \"['jury', 'finds', 'paul', 'flores', 'guilty', 'first', 'degree', 'murder', 'death', 'kristin', 'smart', 'father', 'found', 'guilty', 'accessory', 'murder', 'kiypga2ytv']\", \"text_si\": \"jury finds paul flores guilty first degree murder death kristin smart father found guilty accessory murder kiypga2ytv\", \"text_sil\": \"jury finds paul flores guilty first degree murder death kristin smart father found guilty accessory murder kiypga2ytv\", \"neg\": 0.0, \"neu\": 1.0, \"pos\": 0.0, \"compound\": 0.0, \"sentiment\": \"neutral\"}, {\"text\": \"russian expat who was the main source for infamous trump dossier is acquitted of lying to the fbi, an embarrassing defeat for special counsel durham\\nhttps://t.co/vu0cacf8zn\", \"created_at\": \"2022-10-18T20:29:03+00:00\", \"text_token\": \"['russian', 'expat', 'who', 'was', 'the', 'main', 'source', 'for', 'infamous', 'trump', 'dossier', 'is', 'acquitted', 'of', 'lying', 'to', 'the', 'fbi', 'an', 'embarrassing', 'defeat', 'for', 'special', 'counsel', 'durham', 'https', 't', 'co', 'vu0cacf8zn']\", \"text_token_s\": \"['russian', 'expat', 'main', 'source', 'infamous', 'trump', 'dossier', 'acquitted', 'lying', 'fbi', 'embarrassing', 'defeat', 'special', 'counsel', 'durham', 'vu0cacf8zn']\", \"text_si\": \"russian expat main source infamous trump dossier acquitted lying fbi embarrassing defeat special counsel durham vu0cacf8zn\", \"text_sil\": \"russian expat main source infamous trump dossier acquitted lying fbi embarrassing defeat special counsel durham vu0cacf8zn\", \"neg\": 0.0, \"neu\": 1.0, \"pos\": 0.0, \"compound\": 0.0, \"sentiment\": \"neutral\"}, {\"text\": \"a pilot and passenger are dead after a plane crashed into a car dealership lot near marietta, ohio. authorities say no one on the ground was injured https://t.co/xoyydu8lb6\", \"created_at\": \"2022-10-18T16:00:21+00:00\", \"text_token\": \"['a', 'pilot', 'and', 'passenger', 'are', 'dead', 'after', 'a', 'plane', 'crashed', 'into', 'a', 'car', 'dealership', 'lot', 'near', 'marietta', 'ohio', 'authorities', 'say', 'no', 'one', 'on', 'the', 'ground', 'was', 'injured', 'https', 't', 'co', 'xoyydu8lb6']\", \"text_token_s\": \"['pilot', 'passenger', 'dead', 'plane', 'crashed', 'car', 'dealership', 'lot', 'near', 'marietta', 'ohio', 'authorities', 'say', 'one', 'ground', 'injured', 'xoyydu8lb6']\", \"text_si\": \"pilot passenger dead plane crashed car dealership lot near marietta ohio authorities say one ground injured xoyydu8lb6\", \"text_sil\": \"pilot passenger dead plane crashed car dealership lot near marietta ohio authorities say one ground injured xoyydu8lb6\", \"neg\": 0.0, \"neu\": 1.0, \"pos\": 0.0, \"compound\": 0.0, \"sentiment\": \"neutral\"}, {\"text\": \"ukraine's president zelensky says 30% of the country's power stations have been destroyed in russia's latest round of attacks https://t.co/dy8rz68qm8\", \"created_at\": \"2022-10-18T10:33:29+00:00\", \"text_token\": \"['ukraine', 's', 'president', 'zelensky', 'says', '30', 'of', 'the', 'country', 's', 'power', 'stations', 'have', 'been', 'destroyed', 'in', 'russia', 's', 'latest', 'round', 'of', 'attacks', 'https', 't', 'co', 'dy8rz68qm8']\", \"text_token_s\": \"['ukraine', 'president', 'zelensky', 'says', '30', 'country', 'power', 'stations', 'destroyed', 'russia', 'latest', 'round', 'attacks', 'dy8rz68qm8']\", \"text_si\": \"ukraine president zelensky says country power stations destroyed russia latest round attacks dy8rz68qm8\", \"text_sil\": \"ukraine president zelensky says country power stations destroyed russia latest round attacks dy8rz68qm8\", \"neg\": 0.0, \"neu\": 1.0, \"pos\": 0.0, \"compound\": 0.0, \"sentiment\": \"neutral\"}, {\"text\": \"president biden announces the formal launch of the student loan forgiveness application website https://t.co/qw0k3trl4b\", \"created_at\": \"2022-10-17T19:27:45+00:00\", \"text_token\": \"['president', 'biden', 'announces', 'the', 'formal', 'launch', 'of', 'the', 'student', 'loan', 'forgiveness', 'application', 'website', 'https', 't', 'co', 'qw0k3trl4b']\", \"text_token_s\": \"['president', 'biden', 'announces', 'formal', 'launch', 'student', 'loan', 'forgiveness', 'application', 'website', 'qw0k3trl4b']\", \"text_si\": \"president biden announces formal launch student loan forgiveness application website qw0k3trl4b\", \"text_sil\": \"president biden announces formal launch student loan forgiveness application website qw0k3trl4b\", \"neg\": 0.0, \"neu\": 1.0, \"pos\": 0.0, \"compound\": 0.0, \"sentiment\": \"neutral\"}, {\"text\": \"a russian fighter jet has crashed into a residential building after taking off from a military airfield, state media reports https://t.co/reczia3ix3\", \"created_at\": \"2022-10-17T17:27:13+00:00\", \"text_token\": \"['a', 'russian', 'fighter', 'jet', 'has', 'crashed', 'into', 'a', 'residential', 'building', 'after', 'taking', 'off', 'from', 'a', 'military', 'airfield', 'state', 'media', 'reports', 'https', 't', 'co', 'reczia3ix3']\", \"text_token_s\": \"['russian', 'fighter', 'jet', 'crashed', 'residential', 'building', 'taking', 'military', 'airfield', 'state', 'media', 'reports', 'reczia3ix3']\", \"text_si\": \"russian fighter jet crashed residential building taking military airfield state media reports reczia3ix3\", \"text_sil\": \"russian fighter jet crashed residential building taking military airfield state media reports reczia3ix3\", \"neg\": 0.0, \"neu\": 1.0, \"pos\": 0.0, \"compound\": 0.0, \"sentiment\": \"neutral\"}, {\"text\": \"former president donald trump's company charged the secret service as much as $1,185 per night at its properties despite claims they'd stay free or \\\"at cost,\\\" house panel says https://t.co/v69rtpyzsq\", \"created_at\": \"2022-10-17T16:31:30+00:00\", \"text_token\": \"['former', 'president', 'donald', 'trump', 's', 'company', 'charged', 'the', 'secret', 'service', 'as', 'much', 'as', '1', '185', 'per', 'night', 'at', 'its', 'properties', 'despite', 'claims', 'they', 'd', 'stay', 'free', 'or', 'at', 'cost', 'house', 'panel', 'says', 'https', 't', 'co', 'v69rtpyzsq']\", \"text_token_s\": \"['former', 'president', 'donald', 'trump', 'company', 'charged', 'secret', 'service', 'much', '1', '185', 'per', 'night', 'properties', 'despite', 'claims', 'stay', 'free', 'cost', 'house', 'panel', 'says', 'v69rtpyzsq']\", \"text_si\": \"former president donald trump company charged secret service much 185 per night properties despite claims stay free cost house panel says v69rtpyzsq\", \"text_sil\": \"former president donald trump company charged secret service much 185 per night properties despite claims stay free cost house panel says v69rtpyzsq\", \"neg\": 0.0, \"neu\": 1.0, \"pos\": 0.0, \"compound\": 0.0, \"sentiment\": \"neutral\"}, {\"text\": \"steve bannon sentencing recommendation seeks six months in prison plus $200,000 in fines for contempt of congress conviction\\nhttps://t.co/qq4l6vlou5\", \"created_at\": \"2022-10-17T13:08:39+00:00\", \"text_token\": \"['steve', 'bannon', 'sentencing', 'recommendation', 'seeks', 'six', 'months', 'in', 'prison', 'plus', '200', '000', 'in', 'fines', 'for', 'contempt', 'of', 'congress', 'conviction', 'https', 't', 'co', 'qq4l6vlou5']\", \"text_token_s\": \"['steve', 'bannon', 'sentencing', 'recommendation', 'seeks', 'six', 'months', 'prison', 'plus', '200', '000', 'fines', 'contempt', 'congress', 'conviction', 'qq4l6vlou5']\", \"text_si\": \"steve bannon sentencing recommendation seeks six months prison plus 200 000 fines contempt congress conviction qq4l6vlou5\", \"text_sil\": \"steve bannon sentencing recommendation seeks six months prison plus 200 000 fines contempt congress conviction qq4l6vlou5\", \"neg\": 0.0, \"neu\": 1.0, \"pos\": 0.0, \"compound\": 0.0, \"sentiment\": \"neutral\"}, {\"text\": \"blasts were heard in the ukrainian capital as a result of apparent russian missile strikes on monday morning. follow live updates.\\nhttps://t.co/h0p9xux3wk\", \"created_at\": \"2022-10-17T05:12:01+00:00\", \"text_token\": \"['blasts', 'were', 'heard', 'in', 'the', 'ukrainian', 'capital', 'as', 'a', 'result', 'of', 'apparent', 'russian', 'missile', 'strikes', 'on', 'monday', 'morning', 'follow', 'live', 'updates', 'https', 't', 'co', 'h0p9xux3wk']\", \"text_token_s\": \"['blasts', 'heard', 'ukrainian', 'capital', 'result', 'apparent', 'russian', 'missile', 'strikes', 'monday', 'morning', 'follow', 'live', 'updates', 'h0p9xux3wk']\", \"text_si\": \"blasts heard ukrainian capital result apparent russian missile strikes monday morning follow live updates h0p9xux3wk\", \"text_sil\": \"blasts heard ukrainian capital result apparent russian missile strikes monday morning follow live updates h0p9xux3wk\", \"neg\": 0.0, \"neu\": 1.0, \"pos\": 0.0, \"compound\": 0.0, \"sentiment\": \"neutral\"}, {\"text\": \"authorities in central california have arrested a man in connection with a series of killings that claimed the lives of six people https://t.co/nlzrnsmb11\", \"created_at\": \"2022-10-15T23:48:28+00:00\", \"text_token\": \"['authorities', 'in', 'central', 'california', 'have', 'arrested', 'a', 'man', 'in', 'connection', 'with', 'a', 'series', 'of', 'killings', 'that', 'claimed', 'the', 'lives', 'of', 'six', 'people', 'https', 't', 'co', 'nlzrnsmb11']\", \"text_token_s\": \"['authorities', 'central', 'california', 'arrested', 'man', 'connection', 'series', 'killings', 'claimed', 'lives', 'six', 'people', 'nlzrnsmb11']\", \"text_si\": \"authorities central california arrested man connection series killings claimed lives six people nlzrnsmb11\", \"text_sil\": \"authorities central california arrested man connection series killings claimed lives six people nlzrnsmb11\", \"neg\": 0.0, \"neu\": 1.0, \"pos\": 0.0, \"compound\": 0.0, \"sentiment\": \"neutral\"}, {\"text\": \"bruce sutter, a cy young award-winning relief pitcher and world series champion who pioneered the split-finger fastball, has died at 69. https://t.co/rdnsvno63v\", \"created_at\": \"2022-10-14T20:06:13+00:00\", \"text_token\": \"['bruce', 'sutter', 'a', 'cy', 'young', 'award', 'winning', 'relief', 'pitcher', 'and', 'world', 'series', 'champion', 'who', 'pioneered', 'the', 'split', 'finger', 'fastball', 'has', 'died', 'at', '69', 'https', 't', 'co', 'rdnsvno63v']\", \"text_token_s\": \"['bruce', 'sutter', 'cy', 'young', 'award', 'winning', 'relief', 'pitcher', 'world', 'series', 'champion', 'pioneered', 'split', 'finger', 'fastball', 'died', '69', 'rdnsvno63v']\", \"text_si\": \"bruce sutter young award winning relief pitcher world series champion pioneered split finger fastball died rdnsvno63v\", \"text_sil\": \"bruce sutter young award winning relief pitcher world series champion pioneered split finger fastball died rdnsvno63v\", \"neg\": 0.0, \"neu\": 1.0, \"pos\": 0.0, \"compound\": 0.0, \"sentiment\": \"neutral\"}, {\"text\": \"judge throws out one of five charges against igor danchenko, main source of trump-russia dossier, in major setback for special counsel durham's probe https://t.co/rhtcheq0ei\", \"created_at\": \"2022-10-14T19:39:52+00:00\", \"text_token\": \"['judge', 'throws', 'out', 'one', 'of', 'five', 'charges', 'against', 'igor', 'danchenko', 'main', 'source', 'of', 'trump', 'russia', 'dossier', 'in', 'major', 'setback', 'for', 'special', 'counsel', 'durham', 's', 'probe', 'https', 't', 'co', 'rhtcheq0ei']\", \"text_token_s\": \"['judge', 'throws', 'one', 'five', 'charges', 'igor', 'danchenko', 'main', 'source', 'trump', 'russia', 'dossier', 'major', 'setback', 'special', 'counsel', 'durham', 'probe', 'rhtcheq0ei']\", \"text_si\": \"judge throws one five charges igor danchenko main source trump russia dossier major setback special counsel durham probe rhtcheq0ei\", \"text_sil\": \"judge throws one five charges igor danchenko main source trump russia dossier major setback special counsel durham probe rhtcheq0ei\", \"neg\": 0.0, \"neu\": 1.0, \"pos\": 0.0, \"compound\": 0.0, \"sentiment\": \"neutral\"}, {\"text\": \"robbie coltrane, the actor who brought to life the lovable gamekeeper hagrid in the harry potter film franchise, died friday, according to his agent. https://t.co/prw2bt21ry https://t.co/cavfrexhri\", \"created_at\": \"2022-10-14T17:30:19+00:00\", \"text_token\": \"['robbie', 'coltrane', 'the', 'actor', 'who', 'brought', 'to', 'life', 'the', 'lovable', 'gamekeeper', 'hagrid', 'in', 'the', 'harry', 'potter', 'film', 'franchise', 'died', 'friday', 'according', 'to', 'his', 'agent', 'https', 't', 'co', 'prw2bt21ry', 'https', 't', 'co', 'cavfrexhri']\", \"text_token_s\": \"['robbie', 'coltrane', 'actor', 'brought', 'life', 'lovable', 'gamekeeper', 'hagrid', 'harry', 'potter', 'film', 'franchise', 'died', 'friday', 'according', 'agent', 'prw2bt21ry', 'cavfrexhri']\", \"text_si\": \"robbie coltrane actor brought life lovable gamekeeper hagrid harry potter film franchise died friday according agent prw2bt21ry cavfrexhri\", \"text_sil\": \"robbie coltrane actor brought life lovable gamekeeper hagrid harry potter film franchise died friday according agent prw2bt21ry cavfrexhri\", \"neg\": 0.0, \"neu\": 1.0, \"pos\": 0.0, \"compound\": 0.0, \"sentiment\": \"neutral\"}, {\"text\": \"former president trump has not said whether he will comply with a subpoena by the house select committee investigating the january 6, 2021, capitol hill insurrection https://t.co/0ynzmnguuw\", \"created_at\": \"2022-10-14T14:52:35+00:00\", \"text_token\": \"['former', 'president', 'trump', 'has', 'not', 'said', 'whether', 'he', 'will', 'comply', 'with', 'a', 'subpoena', 'by', 'the', 'house', 'select', 'committee', 'investigating', 'the', 'january', '6', '2021', 'capitol', 'hill', 'insurrection', 'https', 't', 'co', '0ynzmnguuw']\", \"text_token_s\": \"['former', 'president', 'trump', 'said', 'whether', 'comply', 'subpoena', 'house', 'select', 'committee', 'investigating', 'january', '6', '2021', 'capitol', 'hill', 'insurrection', '0ynzmnguuw']\", \"text_si\": \"former president trump said whether comply subpoena house select committee investigating january 2021 capitol hill insurrection 0ynzmnguuw\", \"text_sil\": \"former president trump said whether comply subpoena house select committee investigating january 2021 capitol hill insurrection 0ynzmnguuw\", \"neg\": 0.0, \"neu\": 1.0, \"pos\": 0.0, \"compound\": 0.0, \"sentiment\": \"neutral\"}, {\"text\": \"kwasi kwarteng has been fired as britain's chancellor just weeks into the job, a senior source inside downing street has confirmed to cnn.\\n\\nfollow live updates \\ud83d\\udc49 https://t.co/4ec7sm1ctv\", \"created_at\": \"2022-10-14T11:44:29+00:00\", \"text_token\": \"['kwasi', 'kwarteng', 'has', 'been', 'fired', 'as', 'britain', 's', 'chancellor', 'just', 'weeks', 'into', 'the', 'job', 'a', 'senior', 'source', 'inside', 'downing', 'street', 'has', 'confirmed', 'to', 'cnn', 'follow', 'live', 'updates', 'https', 't', 'co', '4ec7sm1ctv']\", \"text_token_s\": \"['kwasi', 'kwarteng', 'fired', 'britain', 'chancellor', 'weeks', 'job', 'senior', 'source', 'inside', 'downing', 'street', 'confirmed', 'cnn', 'follow', 'live', 'updates', '4ec7sm1ctv']\", \"text_si\": \"kwasi kwarteng fired britain chancellor weeks job senior source inside downing street confirmed cnn follow live updates 4ec7sm1ctv\", \"text_sil\": \"kwasi kwarteng fired britain chancellor weeks job senior source inside downing street confirmed cnn follow live updates 4ec7sm1ctv\", \"neg\": 0.0, \"neu\": 1.0, \"pos\": 0.0, \"compound\": 0.0, \"sentiment\": \"neutral\"}, {\"text\": \"kroger announces it's merging with albertsons in a $24.6 billion deal, creating one of the largest grocery store chains in the us https://t.co/s3fzgtffic\", \"created_at\": \"2022-10-14T11:40:16+00:00\", \"text_token\": \"['kroger', 'announces', 'it', 's', 'merging', 'with', 'albertsons', 'in', 'a', '24', '6', 'billion', 'deal', 'creating', 'one', 'of', 'the', 'largest', 'grocery', 'store', 'chains', 'in', 'the', 'us', 'https', 't', 'co', 's3fzgtffic']\", \"text_token_s\": \"['kroger', 'announces', 'merging', 'albertsons', '24', '6', 'billion', 'deal', 'creating', 'one', 'largest', 'grocery', 'store', 'chains', 'us', 's3fzgtffic']\", \"text_si\": \"kroger announces merging albertsons billion deal creating one largest grocery store chains s3fzgtffic\", \"text_sil\": \"kroger announces merging albertsons billion deal creating one largest grocery store chains s3fzgtffic\", \"neg\": 0.0, \"neu\": 1.0, \"pos\": 0.0, \"compound\": 0.0, \"sentiment\": \"neutral\"}]}}, {\"mode\": \"vega-lite\"});\n",
       "</script>"
      ],
      "text/plain": [
       "alt.Chart(...)"
      ]
     },
     "execution_count": 44,
     "metadata": {},
     "output_type": "execute_result"
    }
   ],
   "source": [
    "alt.Chart(df).mark_line().encode(\n",
    "   x=alt.X('created_at:T'),\n",
    "   y=alt.Y('compound'),\n",
    "   color=alt.Color('sentiment', scale=alt.Scale(domain=domain, range=range_))\n",
    ")"
   ]
  },
  {
   "cell_type": "code",
   "execution_count": 45,
   "metadata": {},
   "outputs": [
    {
     "data": {
      "text/html": [
       "\n",
       "<div id=\"altair-viz-202c95fe9b6449b099f459f6e8bd57e3\"></div>\n",
       "<script type=\"text/javascript\">\n",
       "  var VEGA_DEBUG = (typeof VEGA_DEBUG == \"undefined\") ? {} : VEGA_DEBUG;\n",
       "  (function(spec, embedOpt){\n",
       "    let outputDiv = document.currentScript.previousElementSibling;\n",
       "    if (outputDiv.id !== \"altair-viz-202c95fe9b6449b099f459f6e8bd57e3\") {\n",
       "      outputDiv = document.getElementById(\"altair-viz-202c95fe9b6449b099f459f6e8bd57e3\");\n",
       "    }\n",
       "    const paths = {\n",
       "      \"vega\": \"https://cdn.jsdelivr.net/npm//vega@5?noext\",\n",
       "      \"vega-lib\": \"https://cdn.jsdelivr.net/npm//vega-lib?noext\",\n",
       "      \"vega-lite\": \"https://cdn.jsdelivr.net/npm//vega-lite@4.17.0?noext\",\n",
       "      \"vega-embed\": \"https://cdn.jsdelivr.net/npm//vega-embed@6?noext\",\n",
       "    };\n",
       "\n",
       "    function maybeLoadScript(lib, version) {\n",
       "      var key = `${lib.replace(\"-\", \"\")}_version`;\n",
       "      return (VEGA_DEBUG[key] == version) ?\n",
       "        Promise.resolve(paths[lib]) :\n",
       "        new Promise(function(resolve, reject) {\n",
       "          var s = document.createElement('script');\n",
       "          document.getElementsByTagName(\"head\")[0].appendChild(s);\n",
       "          s.async = true;\n",
       "          s.onload = () => {\n",
       "            VEGA_DEBUG[key] = version;\n",
       "            return resolve(paths[lib]);\n",
       "          };\n",
       "          s.onerror = () => reject(`Error loading script: ${paths[lib]}`);\n",
       "          s.src = paths[lib];\n",
       "        });\n",
       "    }\n",
       "\n",
       "    function showError(err) {\n",
       "      outputDiv.innerHTML = `<div class=\"error\" style=\"color:red;\">${err}</div>`;\n",
       "      throw err;\n",
       "    }\n",
       "\n",
       "    function displayChart(vegaEmbed) {\n",
       "      vegaEmbed(outputDiv, spec, embedOpt)\n",
       "        .catch(err => showError(`Javascript Error: ${err.message}<br>This usually means there's a typo in your chart specification. See the javascript console for the full traceback.`));\n",
       "    }\n",
       "\n",
       "    if(typeof define === \"function\" && define.amd) {\n",
       "      requirejs.config({paths});\n",
       "      require([\"vega-embed\"], displayChart, err => showError(`Error loading script: ${err.message}`));\n",
       "    } else {\n",
       "      maybeLoadScript(\"vega\", \"5\")\n",
       "        .then(() => maybeLoadScript(\"vega-lite\", \"4.17.0\"))\n",
       "        .then(() => maybeLoadScript(\"vega-embed\", \"6\"))\n",
       "        .catch(showError)\n",
       "        .then(() => displayChart(vegaEmbed));\n",
       "    }\n",
       "  })({\"config\": {\"view\": {\"continuousWidth\": 400, \"continuousHeight\": 300}}, \"data\": {\"name\": \"data-e450abb7408e300f4dcf6e20a8ec5e20\"}, \"mark\": \"boxplot\", \"encoding\": {\"color\": {\"field\": \"sentiment\", \"scale\": {\"domain\": [\"neutral\", \"positive\", \"negative\"], \"range\": [\"#b2d8d8\", \"#008080\", \"#db3d13\"]}, \"type\": \"nominal\"}, \"x\": {\"field\": \"sentiment\", \"type\": \"nominal\"}, \"y\": {\"field\": \"compound\", \"type\": \"quantitative\"}}, \"height\": 200, \"width\": 200, \"$schema\": \"https://vega.github.io/schema/vega-lite/v4.17.0.json\", \"datasets\": {\"data-e450abb7408e300f4dcf6e20a8ec5e20\": [{\"text\": \"the body of missing princeton university student misrach ewunetie has been found. https://t.co/66wv0od5ut\", \"created_at\": \"2022-10-20T19:58:17+00:00\", \"text_token\": \"['the', 'body', 'of', 'missing', 'princeton', 'university', 'student', 'misrach', 'ewunetie', 'has', 'been', 'found', 'https', 't', 'co', '66wv0od5ut']\", \"text_token_s\": \"['body', 'missing', 'princeton', 'university', 'student', 'misrach', 'ewunetie', 'found', '66wv0od5ut']\", \"text_si\": \"body missing princeton university student misrach ewunetie found 66wv0od5ut\", \"text_sil\": \"body missing princeton university student misrach ewunetie found 66wv0od5ut\", \"neg\": 0.0, \"neu\": 1.0, \"pos\": 0.0, \"compound\": 0.0, \"sentiment\": \"neutral\"}, {\"text\": \"uk prime minister liz truss quits after a disastrous six weeks in office, putting her on course to be britain's shortest-serving leader https://t.co/0o0xqscrxi\", \"created_at\": \"2022-10-20T12:37:10+00:00\", \"text_token\": \"['uk', 'prime', 'minister', 'liz', 'truss', 'quits', 'after', 'a', 'disastrous', 'six', 'weeks', 'in', 'office', 'putting', 'her', 'on', 'course', 'to', 'be', 'britain', 's', 'shortest', 'serving', 'leader', 'https', 't', 'co', '0o0xqscrxi']\", \"text_token_s\": \"['uk', 'prime', 'minister', 'liz', 'truss', 'quits', 'disastrous', 'six', 'weeks', 'office', 'putting', 'course', 'britain', 'shortest', 'serving', 'leader', '0o0xqscrxi']\", \"text_si\": \"prime minister liz truss quits disastrous six weeks office putting course britain shortest serving leader 0o0xqscrxi\", \"text_sil\": \"prime minister liz truss quits disastrous six weeks office putting course britain shortest serving leader 0o0xqscrxi\", \"neg\": 0.0, \"neu\": 1.0, \"pos\": 0.0, \"compound\": 0.0, \"sentiment\": \"neutral\"}, {\"text\": \"trump weighs letting federal agents return to mar-a-lago, potentially for a supervised search, as the government seeks to ensure all docs are returned. https://t.co/ppjifj2qqq\", \"created_at\": \"2022-10-19T23:03:37+00:00\", \"text_token\": \"['trump', 'weighs', 'letting', 'federal', 'agents', 'return', 'to', 'mar', 'a', 'lago', 'potentially', 'for', 'a', 'supervised', 'search', 'as', 'the', 'government', 'seeks', 'to', 'ensure', 'all', 'docs', 'are', 'returned', 'https', 't', 'co', 'ppjifj2qqq']\", \"text_token_s\": \"['trump', 'weighs', 'letting', 'federal', 'agents', 'return', 'mar', 'lago', 'potentially', 'supervised', 'search', 'government', 'seeks', 'ensure', 'docs', 'returned', 'ppjifj2qqq']\", \"text_si\": \"trump weighs letting federal agents return mar lago potentially supervised search government seeks ensure docs returned ppjifj2qqq\", \"text_sil\": \"trump weighs letting federal agents return mar lago potentially supervised search government seeks ensure docs returned ppjifj2qqq\", \"neg\": 0.0, \"neu\": 1.0, \"pos\": 0.0, \"compound\": 0.0, \"sentiment\": \"neutral\"}, {\"text\": \"britain's home secretary suella braverman quits, throwing the government of embattled prime minister liz truss into further turmoil. https://t.co/xizzmajsao\", \"created_at\": \"2022-10-19T16:17:29+00:00\", \"text_token\": \"['britain', 's', 'home', 'secretary', 'suella', 'braverman', 'quits', 'throwing', 'the', 'government', 'of', 'embattled', 'prime', 'minister', 'liz', 'truss', 'into', 'further', 'turmoil', 'https', 't', 'co', 'xizzmajsao']\", \"text_token_s\": \"['britain', 'home', 'secretary', 'suella', 'braverman', 'quits', 'throwing', 'government', 'embattled', 'prime', 'minister', 'liz', 'truss', 'turmoil', 'xizzmajsao']\", \"text_si\": \"britain home secretary suella braverman quits throwing government embattled prime minister liz truss turmoil xizzmajsao\", \"text_sil\": \"britain home secretary suella braverman quits throwing government embattled prime minister liz truss turmoil xizzmajsao\", \"neg\": 0.0, \"neu\": 1.0, \"pos\": 0.0, \"compound\": 0.0, \"sentiment\": \"neutral\"}, {\"text\": \"russian president vladimir putin signs a decree introducing martial law in four ukrainian regions that moscow recently claimed to have annexed https://t.co/i4d4skhrge\", \"created_at\": \"2022-10-19T12:02:15+00:00\", \"text_token\": \"['russian', 'president', 'vladimir', 'putin', 'signs', 'a', 'decree', 'introducing', 'martial', 'law', 'in', 'four', 'ukrainian', 'regions', 'that', 'moscow', 'recently', 'claimed', 'to', 'have', 'annexed', 'https', 't', 'co', 'i4d4skhrge']\", \"text_token_s\": \"['russian', 'president', 'vladimir', 'putin', 'signs', 'decree', 'introducing', 'martial', 'law', 'four', 'ukrainian', 'regions', 'moscow', 'recently', 'claimed', 'annexed', 'i4d4skhrge']\", \"text_si\": \"russian president vladimir putin signs decree introducing martial law four ukrainian regions moscow recently claimed annexed i4d4skhrge\", \"text_sil\": \"russian president vladimir putin signs decree introducing martial law four ukrainian regions moscow recently claimed annexed i4d4skhrge\", \"neg\": 0.0, \"neu\": 1.0, \"pos\": 0.0, \"compound\": 0.0, \"sentiment\": \"neutral\"}, {\"text\": \"rising food and housing costs drove uk inflation back to a 40-year high of 10.1% in september https://t.co/rzcvzuvhap\", \"created_at\": \"2022-10-19T09:04:45+00:00\", \"text_token\": \"['rising', 'food', 'and', 'housing', 'costs', 'drove', 'uk', 'inflation', 'back', 'to', 'a', '40', 'year', 'high', 'of', '10', '1', 'in', 'september', 'https', 't', 'co', 'rzcvzuvhap']\", \"text_token_s\": \"['rising', 'food', 'housing', 'costs', 'drove', 'uk', 'inflation', 'back', '40', 'year', 'high', '10', '1', 'september', 'rzcvzuvhap']\", \"text_si\": \"rising food housing costs drove inflation back year high september rzcvzuvhap\", \"text_sil\": \"rising food housing costs drove inflation back year high september rzcvzuvhap\", \"neg\": 0.0, \"neu\": 1.0, \"pos\": 0.0, \"compound\": 0.0, \"sentiment\": \"neutral\"}, {\"text\": \"jury finds paul flores guilty of first-degree murder in the death of kristin smart. his father was found not guilty of being an accessory to the murder. https://t.co/kiypga2ytv\", \"created_at\": \"2022-10-18T21:35:05+00:00\", \"text_token\": \"['jury', 'finds', 'paul', 'flores', 'guilty', 'of', 'first', 'degree', 'murder', 'in', 'the', 'death', 'of', 'kristin', 'smart', 'his', 'father', 'was', 'found', 'not', 'guilty', 'of', 'being', 'an', 'accessory', 'to', 'the', 'murder', 'https', 't', 'co', 'kiypga2ytv']\", \"text_token_s\": \"['jury', 'finds', 'paul', 'flores', 'guilty', 'first', 'degree', 'murder', 'death', 'kristin', 'smart', 'father', 'found', 'guilty', 'accessory', 'murder', 'kiypga2ytv']\", \"text_si\": \"jury finds paul flores guilty first degree murder death kristin smart father found guilty accessory murder kiypga2ytv\", \"text_sil\": \"jury finds paul flores guilty first degree murder death kristin smart father found guilty accessory murder kiypga2ytv\", \"neg\": 0.0, \"neu\": 1.0, \"pos\": 0.0, \"compound\": 0.0, \"sentiment\": \"neutral\"}, {\"text\": \"russian expat who was the main source for infamous trump dossier is acquitted of lying to the fbi, an embarrassing defeat for special counsel durham\\nhttps://t.co/vu0cacf8zn\", \"created_at\": \"2022-10-18T20:29:03+00:00\", \"text_token\": \"['russian', 'expat', 'who', 'was', 'the', 'main', 'source', 'for', 'infamous', 'trump', 'dossier', 'is', 'acquitted', 'of', 'lying', 'to', 'the', 'fbi', 'an', 'embarrassing', 'defeat', 'for', 'special', 'counsel', 'durham', 'https', 't', 'co', 'vu0cacf8zn']\", \"text_token_s\": \"['russian', 'expat', 'main', 'source', 'infamous', 'trump', 'dossier', 'acquitted', 'lying', 'fbi', 'embarrassing', 'defeat', 'special', 'counsel', 'durham', 'vu0cacf8zn']\", \"text_si\": \"russian expat main source infamous trump dossier acquitted lying fbi embarrassing defeat special counsel durham vu0cacf8zn\", \"text_sil\": \"russian expat main source infamous trump dossier acquitted lying fbi embarrassing defeat special counsel durham vu0cacf8zn\", \"neg\": 0.0, \"neu\": 1.0, \"pos\": 0.0, \"compound\": 0.0, \"sentiment\": \"neutral\"}, {\"text\": \"a pilot and passenger are dead after a plane crashed into a car dealership lot near marietta, ohio. authorities say no one on the ground was injured https://t.co/xoyydu8lb6\", \"created_at\": \"2022-10-18T16:00:21+00:00\", \"text_token\": \"['a', 'pilot', 'and', 'passenger', 'are', 'dead', 'after', 'a', 'plane', 'crashed', 'into', 'a', 'car', 'dealership', 'lot', 'near', 'marietta', 'ohio', 'authorities', 'say', 'no', 'one', 'on', 'the', 'ground', 'was', 'injured', 'https', 't', 'co', 'xoyydu8lb6']\", \"text_token_s\": \"['pilot', 'passenger', 'dead', 'plane', 'crashed', 'car', 'dealership', 'lot', 'near', 'marietta', 'ohio', 'authorities', 'say', 'one', 'ground', 'injured', 'xoyydu8lb6']\", \"text_si\": \"pilot passenger dead plane crashed car dealership lot near marietta ohio authorities say one ground injured xoyydu8lb6\", \"text_sil\": \"pilot passenger dead plane crashed car dealership lot near marietta ohio authorities say one ground injured xoyydu8lb6\", \"neg\": 0.0, \"neu\": 1.0, \"pos\": 0.0, \"compound\": 0.0, \"sentiment\": \"neutral\"}, {\"text\": \"ukraine's president zelensky says 30% of the country's power stations have been destroyed in russia's latest round of attacks https://t.co/dy8rz68qm8\", \"created_at\": \"2022-10-18T10:33:29+00:00\", \"text_token\": \"['ukraine', 's', 'president', 'zelensky', 'says', '30', 'of', 'the', 'country', 's', 'power', 'stations', 'have', 'been', 'destroyed', 'in', 'russia', 's', 'latest', 'round', 'of', 'attacks', 'https', 't', 'co', 'dy8rz68qm8']\", \"text_token_s\": \"['ukraine', 'president', 'zelensky', 'says', '30', 'country', 'power', 'stations', 'destroyed', 'russia', 'latest', 'round', 'attacks', 'dy8rz68qm8']\", \"text_si\": \"ukraine president zelensky says country power stations destroyed russia latest round attacks dy8rz68qm8\", \"text_sil\": \"ukraine president zelensky says country power stations destroyed russia latest round attacks dy8rz68qm8\", \"neg\": 0.0, \"neu\": 1.0, \"pos\": 0.0, \"compound\": 0.0, \"sentiment\": \"neutral\"}, {\"text\": \"president biden announces the formal launch of the student loan forgiveness application website https://t.co/qw0k3trl4b\", \"created_at\": \"2022-10-17T19:27:45+00:00\", \"text_token\": \"['president', 'biden', 'announces', 'the', 'formal', 'launch', 'of', 'the', 'student', 'loan', 'forgiveness', 'application', 'website', 'https', 't', 'co', 'qw0k3trl4b']\", \"text_token_s\": \"['president', 'biden', 'announces', 'formal', 'launch', 'student', 'loan', 'forgiveness', 'application', 'website', 'qw0k3trl4b']\", \"text_si\": \"president biden announces formal launch student loan forgiveness application website qw0k3trl4b\", \"text_sil\": \"president biden announces formal launch student loan forgiveness application website qw0k3trl4b\", \"neg\": 0.0, \"neu\": 1.0, \"pos\": 0.0, \"compound\": 0.0, \"sentiment\": \"neutral\"}, {\"text\": \"a russian fighter jet has crashed into a residential building after taking off from a military airfield, state media reports https://t.co/reczia3ix3\", \"created_at\": \"2022-10-17T17:27:13+00:00\", \"text_token\": \"['a', 'russian', 'fighter', 'jet', 'has', 'crashed', 'into', 'a', 'residential', 'building', 'after', 'taking', 'off', 'from', 'a', 'military', 'airfield', 'state', 'media', 'reports', 'https', 't', 'co', 'reczia3ix3']\", \"text_token_s\": \"['russian', 'fighter', 'jet', 'crashed', 'residential', 'building', 'taking', 'military', 'airfield', 'state', 'media', 'reports', 'reczia3ix3']\", \"text_si\": \"russian fighter jet crashed residential building taking military airfield state media reports reczia3ix3\", \"text_sil\": \"russian fighter jet crashed residential building taking military airfield state media reports reczia3ix3\", \"neg\": 0.0, \"neu\": 1.0, \"pos\": 0.0, \"compound\": 0.0, \"sentiment\": \"neutral\"}, {\"text\": \"former president donald trump's company charged the secret service as much as $1,185 per night at its properties despite claims they'd stay free or \\\"at cost,\\\" house panel says https://t.co/v69rtpyzsq\", \"created_at\": \"2022-10-17T16:31:30+00:00\", \"text_token\": \"['former', 'president', 'donald', 'trump', 's', 'company', 'charged', 'the', 'secret', 'service', 'as', 'much', 'as', '1', '185', 'per', 'night', 'at', 'its', 'properties', 'despite', 'claims', 'they', 'd', 'stay', 'free', 'or', 'at', 'cost', 'house', 'panel', 'says', 'https', 't', 'co', 'v69rtpyzsq']\", \"text_token_s\": \"['former', 'president', 'donald', 'trump', 'company', 'charged', 'secret', 'service', 'much', '1', '185', 'per', 'night', 'properties', 'despite', 'claims', 'stay', 'free', 'cost', 'house', 'panel', 'says', 'v69rtpyzsq']\", \"text_si\": \"former president donald trump company charged secret service much 185 per night properties despite claims stay free cost house panel says v69rtpyzsq\", \"text_sil\": \"former president donald trump company charged secret service much 185 per night properties despite claims stay free cost house panel says v69rtpyzsq\", \"neg\": 0.0, \"neu\": 1.0, \"pos\": 0.0, \"compound\": 0.0, \"sentiment\": \"neutral\"}, {\"text\": \"steve bannon sentencing recommendation seeks six months in prison plus $200,000 in fines for contempt of congress conviction\\nhttps://t.co/qq4l6vlou5\", \"created_at\": \"2022-10-17T13:08:39+00:00\", \"text_token\": \"['steve', 'bannon', 'sentencing', 'recommendation', 'seeks', 'six', 'months', 'in', 'prison', 'plus', '200', '000', 'in', 'fines', 'for', 'contempt', 'of', 'congress', 'conviction', 'https', 't', 'co', 'qq4l6vlou5']\", \"text_token_s\": \"['steve', 'bannon', 'sentencing', 'recommendation', 'seeks', 'six', 'months', 'prison', 'plus', '200', '000', 'fines', 'contempt', 'congress', 'conviction', 'qq4l6vlou5']\", \"text_si\": \"steve bannon sentencing recommendation seeks six months prison plus 200 000 fines contempt congress conviction qq4l6vlou5\", \"text_sil\": \"steve bannon sentencing recommendation seeks six months prison plus 200 000 fines contempt congress conviction qq4l6vlou5\", \"neg\": 0.0, \"neu\": 1.0, \"pos\": 0.0, \"compound\": 0.0, \"sentiment\": \"neutral\"}, {\"text\": \"blasts were heard in the ukrainian capital as a result of apparent russian missile strikes on monday morning. follow live updates.\\nhttps://t.co/h0p9xux3wk\", \"created_at\": \"2022-10-17T05:12:01+00:00\", \"text_token\": \"['blasts', 'were', 'heard', 'in', 'the', 'ukrainian', 'capital', 'as', 'a', 'result', 'of', 'apparent', 'russian', 'missile', 'strikes', 'on', 'monday', 'morning', 'follow', 'live', 'updates', 'https', 't', 'co', 'h0p9xux3wk']\", \"text_token_s\": \"['blasts', 'heard', 'ukrainian', 'capital', 'result', 'apparent', 'russian', 'missile', 'strikes', 'monday', 'morning', 'follow', 'live', 'updates', 'h0p9xux3wk']\", \"text_si\": \"blasts heard ukrainian capital result apparent russian missile strikes monday morning follow live updates h0p9xux3wk\", \"text_sil\": \"blasts heard ukrainian capital result apparent russian missile strikes monday morning follow live updates h0p9xux3wk\", \"neg\": 0.0, \"neu\": 1.0, \"pos\": 0.0, \"compound\": 0.0, \"sentiment\": \"neutral\"}, {\"text\": \"authorities in central california have arrested a man in connection with a series of killings that claimed the lives of six people https://t.co/nlzrnsmb11\", \"created_at\": \"2022-10-15T23:48:28+00:00\", \"text_token\": \"['authorities', 'in', 'central', 'california', 'have', 'arrested', 'a', 'man', 'in', 'connection', 'with', 'a', 'series', 'of', 'killings', 'that', 'claimed', 'the', 'lives', 'of', 'six', 'people', 'https', 't', 'co', 'nlzrnsmb11']\", \"text_token_s\": \"['authorities', 'central', 'california', 'arrested', 'man', 'connection', 'series', 'killings', 'claimed', 'lives', 'six', 'people', 'nlzrnsmb11']\", \"text_si\": \"authorities central california arrested man connection series killings claimed lives six people nlzrnsmb11\", \"text_sil\": \"authorities central california arrested man connection series killings claimed lives six people nlzrnsmb11\", \"neg\": 0.0, \"neu\": 1.0, \"pos\": 0.0, \"compound\": 0.0, \"sentiment\": \"neutral\"}, {\"text\": \"bruce sutter, a cy young award-winning relief pitcher and world series champion who pioneered the split-finger fastball, has died at 69. https://t.co/rdnsvno63v\", \"created_at\": \"2022-10-14T20:06:13+00:00\", \"text_token\": \"['bruce', 'sutter', 'a', 'cy', 'young', 'award', 'winning', 'relief', 'pitcher', 'and', 'world', 'series', 'champion', 'who', 'pioneered', 'the', 'split', 'finger', 'fastball', 'has', 'died', 'at', '69', 'https', 't', 'co', 'rdnsvno63v']\", \"text_token_s\": \"['bruce', 'sutter', 'cy', 'young', 'award', 'winning', 'relief', 'pitcher', 'world', 'series', 'champion', 'pioneered', 'split', 'finger', 'fastball', 'died', '69', 'rdnsvno63v']\", \"text_si\": \"bruce sutter young award winning relief pitcher world series champion pioneered split finger fastball died rdnsvno63v\", \"text_sil\": \"bruce sutter young award winning relief pitcher world series champion pioneered split finger fastball died rdnsvno63v\", \"neg\": 0.0, \"neu\": 1.0, \"pos\": 0.0, \"compound\": 0.0, \"sentiment\": \"neutral\"}, {\"text\": \"judge throws out one of five charges against igor danchenko, main source of trump-russia dossier, in major setback for special counsel durham's probe https://t.co/rhtcheq0ei\", \"created_at\": \"2022-10-14T19:39:52+00:00\", \"text_token\": \"['judge', 'throws', 'out', 'one', 'of', 'five', 'charges', 'against', 'igor', 'danchenko', 'main', 'source', 'of', 'trump', 'russia', 'dossier', 'in', 'major', 'setback', 'for', 'special', 'counsel', 'durham', 's', 'probe', 'https', 't', 'co', 'rhtcheq0ei']\", \"text_token_s\": \"['judge', 'throws', 'one', 'five', 'charges', 'igor', 'danchenko', 'main', 'source', 'trump', 'russia', 'dossier', 'major', 'setback', 'special', 'counsel', 'durham', 'probe', 'rhtcheq0ei']\", \"text_si\": \"judge throws one five charges igor danchenko main source trump russia dossier major setback special counsel durham probe rhtcheq0ei\", \"text_sil\": \"judge throws one five charges igor danchenko main source trump russia dossier major setback special counsel durham probe rhtcheq0ei\", \"neg\": 0.0, \"neu\": 1.0, \"pos\": 0.0, \"compound\": 0.0, \"sentiment\": \"neutral\"}, {\"text\": \"robbie coltrane, the actor who brought to life the lovable gamekeeper hagrid in the harry potter film franchise, died friday, according to his agent. https://t.co/prw2bt21ry https://t.co/cavfrexhri\", \"created_at\": \"2022-10-14T17:30:19+00:00\", \"text_token\": \"['robbie', 'coltrane', 'the', 'actor', 'who', 'brought', 'to', 'life', 'the', 'lovable', 'gamekeeper', 'hagrid', 'in', 'the', 'harry', 'potter', 'film', 'franchise', 'died', 'friday', 'according', 'to', 'his', 'agent', 'https', 't', 'co', 'prw2bt21ry', 'https', 't', 'co', 'cavfrexhri']\", \"text_token_s\": \"['robbie', 'coltrane', 'actor', 'brought', 'life', 'lovable', 'gamekeeper', 'hagrid', 'harry', 'potter', 'film', 'franchise', 'died', 'friday', 'according', 'agent', 'prw2bt21ry', 'cavfrexhri']\", \"text_si\": \"robbie coltrane actor brought life lovable gamekeeper hagrid harry potter film franchise died friday according agent prw2bt21ry cavfrexhri\", \"text_sil\": \"robbie coltrane actor brought life lovable gamekeeper hagrid harry potter film franchise died friday according agent prw2bt21ry cavfrexhri\", \"neg\": 0.0, \"neu\": 1.0, \"pos\": 0.0, \"compound\": 0.0, \"sentiment\": \"neutral\"}, {\"text\": \"former president trump has not said whether he will comply with a subpoena by the house select committee investigating the january 6, 2021, capitol hill insurrection https://t.co/0ynzmnguuw\", \"created_at\": \"2022-10-14T14:52:35+00:00\", \"text_token\": \"['former', 'president', 'trump', 'has', 'not', 'said', 'whether', 'he', 'will', 'comply', 'with', 'a', 'subpoena', 'by', 'the', 'house', 'select', 'committee', 'investigating', 'the', 'january', '6', '2021', 'capitol', 'hill', 'insurrection', 'https', 't', 'co', '0ynzmnguuw']\", \"text_token_s\": \"['former', 'president', 'trump', 'said', 'whether', 'comply', 'subpoena', 'house', 'select', 'committee', 'investigating', 'january', '6', '2021', 'capitol', 'hill', 'insurrection', '0ynzmnguuw']\", \"text_si\": \"former president trump said whether comply subpoena house select committee investigating january 2021 capitol hill insurrection 0ynzmnguuw\", \"text_sil\": \"former president trump said whether comply subpoena house select committee investigating january 2021 capitol hill insurrection 0ynzmnguuw\", \"neg\": 0.0, \"neu\": 1.0, \"pos\": 0.0, \"compound\": 0.0, \"sentiment\": \"neutral\"}, {\"text\": \"kwasi kwarteng has been fired as britain's chancellor just weeks into the job, a senior source inside downing street has confirmed to cnn.\\n\\nfollow live updates \\ud83d\\udc49 https://t.co/4ec7sm1ctv\", \"created_at\": \"2022-10-14T11:44:29+00:00\", \"text_token\": \"['kwasi', 'kwarteng', 'has', 'been', 'fired', 'as', 'britain', 's', 'chancellor', 'just', 'weeks', 'into', 'the', 'job', 'a', 'senior', 'source', 'inside', 'downing', 'street', 'has', 'confirmed', 'to', 'cnn', 'follow', 'live', 'updates', 'https', 't', 'co', '4ec7sm1ctv']\", \"text_token_s\": \"['kwasi', 'kwarteng', 'fired', 'britain', 'chancellor', 'weeks', 'job', 'senior', 'source', 'inside', 'downing', 'street', 'confirmed', 'cnn', 'follow', 'live', 'updates', '4ec7sm1ctv']\", \"text_si\": \"kwasi kwarteng fired britain chancellor weeks job senior source inside downing street confirmed cnn follow live updates 4ec7sm1ctv\", \"text_sil\": \"kwasi kwarteng fired britain chancellor weeks job senior source inside downing street confirmed cnn follow live updates 4ec7sm1ctv\", \"neg\": 0.0, \"neu\": 1.0, \"pos\": 0.0, \"compound\": 0.0, \"sentiment\": \"neutral\"}, {\"text\": \"kroger announces it's merging with albertsons in a $24.6 billion deal, creating one of the largest grocery store chains in the us https://t.co/s3fzgtffic\", \"created_at\": \"2022-10-14T11:40:16+00:00\", \"text_token\": \"['kroger', 'announces', 'it', 's', 'merging', 'with', 'albertsons', 'in', 'a', '24', '6', 'billion', 'deal', 'creating', 'one', 'of', 'the', 'largest', 'grocery', 'store', 'chains', 'in', 'the', 'us', 'https', 't', 'co', 's3fzgtffic']\", \"text_token_s\": \"['kroger', 'announces', 'merging', 'albertsons', '24', '6', 'billion', 'deal', 'creating', 'one', 'largest', 'grocery', 'store', 'chains', 'us', 's3fzgtffic']\", \"text_si\": \"kroger announces merging albertsons billion deal creating one largest grocery store chains s3fzgtffic\", \"text_sil\": \"kroger announces merging albertsons billion deal creating one largest grocery store chains s3fzgtffic\", \"neg\": 0.0, \"neu\": 1.0, \"pos\": 0.0, \"compound\": 0.0, \"sentiment\": \"neutral\"}]}}, {\"mode\": \"vega-lite\"});\n",
       "</script>"
      ],
      "text/plain": [
       "alt.Chart(...)"
      ]
     },
     "execution_count": 45,
     "metadata": {},
     "output_type": "execute_result"
    }
   ],
   "source": [
    "alt.Chart(df).mark_boxplot().encode(\n",
    "    x=alt.X('sentiment'),\n",
    "    y=alt.Y('compound'),\n",
    "    color=alt.Color('sentiment', scale=alt.Scale(domain=domain, range=range_))\n",
    ").properties(\n",
    "    width=200,\n",
    "    height=200\n",
    ")"
   ]
  },
  {
   "cell_type": "markdown",
   "metadata": {
    "slideshow": {
     "slide_type": "notes"
    }
   },
   "source": [
    "Literature:\n",
    "\n",
    "[Hutto, C.J. & Gilbert, E.E. (2014). VADER: A Parsimonious Rule-based Model for\n",
    "Sentiment Analysis of Social Media Text. Eighth International Conference on\n",
    "Weblogs and Social Media (ICWSM-14). Ann Arbor, MI, June 2014.](https://ojs.aaai.org/index.php/ICWSM/article/view/14550)"
   ]
  }
 ],
 "metadata": {
  "celltoolbar": "Create Assignment",
  "kernelspec": {
   "display_name": "Python 3 (ipykernel)",
   "language": "python",
   "name": "python3"
  },
  "language_info": {
   "codemirror_mode": {
    "name": "ipython",
    "version": 3
   },
   "file_extension": ".py",
   "mimetype": "text/x-python",
   "name": "python",
   "nbconvert_exporter": "python",
   "pygments_lexer": "ipython3",
   "version": "3.9.13"
  },
  "varInspector": {
   "cols": {
    "lenName": 16,
    "lenType": 16,
    "lenVar": 40
   },
   "kernels_config": {
    "python": {
     "delete_cmd_postfix": "",
     "delete_cmd_prefix": "del ",
     "library": "var_list.py",
     "varRefreshCmd": "print(var_dic_list())"
    },
    "r": {
     "delete_cmd_postfix": ") ",
     "delete_cmd_prefix": "rm(",
     "library": "var_list.r",
     "varRefreshCmd": "cat(var_dic_list()) "
    }
   },
   "types_to_exclude": [
    "module",
    "function",
    "builtin_function_or_method",
    "instance",
    "_Feature"
   ],
   "window_display": false
  },
  "vscode": {
   "interpreter": {
    "hash": "147de23312147813b0623f895fe208f672aacb131d01c672b840a7a22f97849e"
   }
  }
 },
 "nbformat": 4,
 "nbformat_minor": 2
}
